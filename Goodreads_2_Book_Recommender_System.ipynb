{
 "cells": [
  {
   "cell_type": "markdown",
   "metadata": {
    "colab_type": "text",
    "id": "K7yIlN7E4dqE"
   },
   "source": [
    "# Books Recommender System"
   ]
  },
  {
   "cell_type": "markdown",
   "metadata": {
    "colab_type": "text",
    "id": "vjzsdqHx4lJF"
   },
   "source": [
    "![](http://labs.criteo.com/wp-content/uploads/2017/08/CustomersWhoBought3.jpg)"
   ]
  },
  {
   "cell_type": "markdown",
   "metadata": {
    "colab_type": "text",
    "id": "Pc5A0RjuGaQN"
   },
   "source": [
    "This is the second part of my project on Book Data Analysis and Recommendation Systems. \n",
    "\n",
    "In my first notebook ([The Story of Book](https://www.kaggle.com/rounakbanik/the-story-of-film/)), I attempted at narrating the story of book by performing an extensive exploratory data analysis on Books Metadata collected from Goodreads.\n",
    "\n",
    "In this notebook, I will attempt at implementing a few recommendation algorithms (Basic Recommender, Content-based and Collaborative Filtering) and try to build an ensemble of these models to come up with our final recommendation system."
   ]
  },
  {
   "cell_type": "markdown",
   "metadata": {},
   "source": [
    "# What's in this kernel?"
   ]
  },
  {
   "cell_type": "markdown",
   "metadata": {},
   "source": [
    "- [Importing Libraries and Loading Our Data](#1)\n",
    "- [Clean the dataset](#2)\n",
    "- [Simple Recommender](#3)\n",
    "    - [Top Books](#4)\n",
    "    - [Top \"Genres\" Books](#5)\n",
    "- [Content Based Recommender](#6)\n",
    "    - [Cosine Similarity](#7)\n",
    "    - [Popularity and Ratings](#8)\n",
    "- [Collaborative Filtering](#9)\n",
    "    - [User Based](#10)\n",
    "    - [Item Based](#11)\n",
    "- [Hybrid Recommender](#12)\n",
    "- [Conclusion](#13)\n",
    "- [Save Model](#14)"
   ]
  },
  {
   "cell_type": "markdown",
   "metadata": {
    "colab_type": "text",
    "id": "j6g2asaFK6D7"
   },
   "source": [
    "# Importing Libraries and Loading Our Data <a id=\"1\"></a> <br>"
   ]
  },
  {
   "cell_type": "code",
   "execution_count": 1,
   "metadata": {
    "colab": {
     "base_uri": "https://localhost:8080/",
     "height": 96,
     "resources": {
      "http://localhost:8080/nbextensions/google.colab/files.js": {
       "data": "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",
       "headers": [
        [
         "content-type",
         "application/javascript"
        ]
       ],
       "ok": true,
       "status": 200,
       "status_text": "OK"
      }
     }
    },
    "colab_type": "code",
    "id": "R4qPCj03QikE",
    "outputId": "ea20bf59-3007-416f-f0c4-5a04ecd4601a"
   },
   "outputs": [
    {
     "data": {
      "text/html": [
       "\n",
       "     <input type=\"file\" id=\"files-b66e86e1-86c1-4762-82ef-d05e6bebd3f1\" name=\"files[]\" multiple disabled />\n",
       "     <output id=\"result-b66e86e1-86c1-4762-82ef-d05e6bebd3f1\">\n",
       "      Upload widget is only available when the cell has been executed in the\n",
       "      current browser session. Please rerun this cell to enable.\n",
       "      </output>\n",
       "      <script src=\"/nbextensions/google.colab/files.js\"></script> "
      ],
      "text/plain": [
       "<IPython.core.display.HTML object>"
      ]
     },
     "metadata": {
      "tags": []
     },
     "output_type": "display_data"
    },
    {
     "name": "stdout",
     "output_type": "stream",
     "text": [
      "Saving kaggle.json to kaggle.json\n"
     ]
    },
    {
     "data": {
      "text/plain": [
       "{'kaggle.json': b'{\"username\":\"omarzaghlol\",\"key\":\"1a06562cd41911d1ba70e1158ec5e29e\"}'}"
      ]
     },
     "execution_count": 1,
     "metadata": {
      "tags": []
     },
     "output_type": "execute_result"
    }
   ],
   "source": [
    "! pip install -q kaggle\n",
    "from google.colab import files\n",
    "files.upload()"
   ]
  },
  {
   "cell_type": "code",
   "execution_count": 2,
   "metadata": {
    "colab": {
     "base_uri": "https://localhost:8080/",
     "height": 202
    },
    "colab_type": "code",
    "id": "I9OGSVX0Qh6J",
    "outputId": "bd9708fc-0eab-4870-cfbc-31ac705f6735"
   },
   "outputs": [
    {
     "name": "stdout",
     "output_type": "stream",
     "text": [
      "Downloading goodbooks-10k.zip to /content\n",
      "\r",
      "  0% 0.00/11.6M [00:00<?, ?B/s]\r",
      " 43% 5.00M/11.6M [00:00<00:00, 22.2MB/s]\n",
      "\r",
      "100% 11.6M/11.6M [00:00<00:00, 38.7MB/s]\n",
      "Archive:  goodbooks-10k.zip\n",
      "  inflating: data/book_tags.csv      \n",
      "  inflating: data/books.csv          \n",
      "  inflating: data/ratings.csv        \n",
      "  inflating: data/sample_book.xml    \n",
      "  inflating: data/tags.csv           \n",
      "  inflating: data/to_read.csv        \n"
     ]
    }
   ],
   "source": [
    "! mkdir ~/.kaggle\n",
    "! cp kaggle.json ~/.kaggle/\n",
    "! chmod 600 ~/.kaggle/kaggle.json\n",
    "! kaggle datasets download -d zygmunt/goodbooks-10k\n",
    "! mkdir data\n",
    "! unzip goodbooks-10k.zip -d data"
   ]
  },
  {
   "cell_type": "code",
   "execution_count": 1,
   "metadata": {
    "colab": {
     "base_uri": "https://localhost:8080/",
     "height": 74
    },
    "colab_type": "code",
    "id": "eMBXg5P5UKP8",
    "outputId": "3f0a7c62-e5ec-47bc-fc74-cf1fe8ce5f17"
   },
   "outputs": [],
   "source": [
    "import pandas as pd\n",
    "import numpy as np\n",
    "import seaborn as sns\n",
    "import matplotlib.pyplot as plt\n",
    "import datetime\n",
    "\n",
    "import warnings\n",
    "warnings.filterwarnings('ignore')"
   ]
  },
  {
   "cell_type": "code",
   "execution_count": 2,
   "metadata": {
    "colab": {},
    "colab_type": "code",
    "id": "hpCy_uMGUKQN"
   },
   "outputs": [],
   "source": [
    "books = pd.read_csv('data/books.csv')\n",
    "ratings = pd.read_csv('data/ratings.csv')\n",
    "book_tags = pd.read_csv('data/book_tags.csv')\n",
    "tags = pd.read_csv('data/tags.csv')"
   ]
  },
  {
   "cell_type": "markdown",
   "metadata": {
    "colab_type": "text",
    "id": "MFMyFNckLWJC"
   },
   "source": [
    "# Clean the dataset <a id=\"2\"></a> <br>\n",
    "\n",
    "As with nearly any real-life dataset, we need to do some cleaning first. When exploring the data I noticed that for some combinations of user and book there are multiple ratings, while in theory there should only be one (unless users can rate a book several times). Furthermore, for the collaborative filtering it is better to have more ratings per user. So I decided to remove users who have rated fewer than 3 books."
   ]
  },
  {
   "cell_type": "code",
   "execution_count": 3,
   "metadata": {
    "colab": {},
    "colab_type": "code",
    "id": "o59Yh-2kZ4u0"
   },
   "outputs": [],
   "source": [
    "books['original_publication_year'] = books['original_publication_year'].fillna(-1).apply(lambda x: int(x) if x != -1 else -1)"
   ]
  },
  {
   "cell_type": "code",
   "execution_count": 4,
   "metadata": {
    "colab": {},
    "colab_type": "code",
    "id": "flxaTo_vX4H8"
   },
   "outputs": [],
   "source": [
    "ratings_rmv_duplicates = ratings.drop_duplicates()\n",
    "unwanted_users = ratings_rmv_duplicates.groupby('user_id')['user_id'].count()\n",
    "unwanted_users = unwanted_users[unwanted_users < 3]\n",
    "unwanted_ratings = ratings_rmv_duplicates[ratings_rmv_duplicates.user_id.isin(unwanted_users.index)]\n",
    "new_ratings = ratings_rmv_duplicates.drop(unwanted_ratings.index)"
   ]
  },
  {
   "cell_type": "code",
   "execution_count": 5,
   "metadata": {
    "colab": {},
    "colab_type": "code",
    "id": "E4T6oDft7gvU"
   },
   "outputs": [],
   "source": [
    "new_ratings['title'] = books.set_index('id').title.loc[new_ratings.book_id].values"
   ]
  },
  {
   "cell_type": "code",
   "execution_count": 0,
   "metadata": {
    "colab": {
     "base_uri": "https://localhost:8080/",
     "height": 363
    },
    "colab_type": "code",
    "id": "n5YSFqfvqN2r",
    "outputId": "28775b45-f86a-4e3a-a533-3e9652dcddc3"
   },
   "outputs": [
    {
     "data": {
      "text/html": [
       "<div>\n",
       "<style scoped>\n",
       "    .dataframe tbody tr th:only-of-type {\n",
       "        vertical-align: middle;\n",
       "    }\n",
       "\n",
       "    .dataframe tbody tr th {\n",
       "        vertical-align: top;\n",
       "    }\n",
       "\n",
       "    .dataframe thead th {\n",
       "        text-align: right;\n",
       "    }\n",
       "</style>\n",
       "<table border=\"1\" class=\"dataframe\">\n",
       "  <thead>\n",
       "    <tr style=\"text-align: right;\">\n",
       "      <th></th>\n",
       "      <th>book_id</th>\n",
       "      <th>user_id</th>\n",
       "      <th>rating</th>\n",
       "      <th>title</th>\n",
       "    </tr>\n",
       "  </thead>\n",
       "  <tbody>\n",
       "    <tr>\n",
       "      <th>0</th>\n",
       "      <td>1</td>\n",
       "      <td>314</td>\n",
       "      <td>5</td>\n",
       "      <td>The Hunger Games (The Hunger Games, #1)</td>\n",
       "    </tr>\n",
       "    <tr>\n",
       "      <th>1</th>\n",
       "      <td>1</td>\n",
       "      <td>439</td>\n",
       "      <td>3</td>\n",
       "      <td>The Hunger Games (The Hunger Games, #1)</td>\n",
       "    </tr>\n",
       "    <tr>\n",
       "      <th>2</th>\n",
       "      <td>1</td>\n",
       "      <td>588</td>\n",
       "      <td>5</td>\n",
       "      <td>The Hunger Games (The Hunger Games, #1)</td>\n",
       "    </tr>\n",
       "    <tr>\n",
       "      <th>3</th>\n",
       "      <td>1</td>\n",
       "      <td>1169</td>\n",
       "      <td>4</td>\n",
       "      <td>The Hunger Games (The Hunger Games, #1)</td>\n",
       "    </tr>\n",
       "    <tr>\n",
       "      <th>4</th>\n",
       "      <td>1</td>\n",
       "      <td>1185</td>\n",
       "      <td>4</td>\n",
       "      <td>The Hunger Games (The Hunger Games, #1)</td>\n",
       "    </tr>\n",
       "    <tr>\n",
       "      <th>5</th>\n",
       "      <td>1</td>\n",
       "      <td>2077</td>\n",
       "      <td>4</td>\n",
       "      <td>The Hunger Games (The Hunger Games, #1)</td>\n",
       "    </tr>\n",
       "    <tr>\n",
       "      <th>6</th>\n",
       "      <td>1</td>\n",
       "      <td>2487</td>\n",
       "      <td>4</td>\n",
       "      <td>The Hunger Games (The Hunger Games, #1)</td>\n",
       "    </tr>\n",
       "    <tr>\n",
       "      <th>7</th>\n",
       "      <td>1</td>\n",
       "      <td>2900</td>\n",
       "      <td>5</td>\n",
       "      <td>The Hunger Games (The Hunger Games, #1)</td>\n",
       "    </tr>\n",
       "    <tr>\n",
       "      <th>8</th>\n",
       "      <td>1</td>\n",
       "      <td>3662</td>\n",
       "      <td>4</td>\n",
       "      <td>The Hunger Games (The Hunger Games, #1)</td>\n",
       "    </tr>\n",
       "    <tr>\n",
       "      <th>9</th>\n",
       "      <td>1</td>\n",
       "      <td>3922</td>\n",
       "      <td>5</td>\n",
       "      <td>The Hunger Games (The Hunger Games, #1)</td>\n",
       "    </tr>\n",
       "  </tbody>\n",
       "</table>\n",
       "</div>"
      ],
      "text/plain": [
       "   book_id  user_id  rating                                    title\n",
       "0        1      314       5  The Hunger Games (The Hunger Games, #1)\n",
       "1        1      439       3  The Hunger Games (The Hunger Games, #1)\n",
       "2        1      588       5  The Hunger Games (The Hunger Games, #1)\n",
       "3        1     1169       4  The Hunger Games (The Hunger Games, #1)\n",
       "4        1     1185       4  The Hunger Games (The Hunger Games, #1)\n",
       "5        1     2077       4  The Hunger Games (The Hunger Games, #1)\n",
       "6        1     2487       4  The Hunger Games (The Hunger Games, #1)\n",
       "7        1     2900       5  The Hunger Games (The Hunger Games, #1)\n",
       "8        1     3662       4  The Hunger Games (The Hunger Games, #1)\n",
       "9        1     3922       5  The Hunger Games (The Hunger Games, #1)"
      ]
     },
     "execution_count": 7,
     "metadata": {
      "tags": []
     },
     "output_type": "execute_result"
    }
   ],
   "source": [
    "new_ratings.head(10)"
   ]
  },
  {
   "cell_type": "markdown",
   "metadata": {
    "colab_type": "text",
    "id": "ndsUprZmqq69"
   },
   "source": [
    "# Simple Recommender <a id=\"3\"></a> <br>\n",
    "\n",
    "The Simple Recommender offers generalized recommnendations to every user based on book popularity and (sometimes) genre. The basic idea behind this recommender is that books that are more popular and more critically acclaimed will have a higher probability of being liked by the average audience. This model does not give personalized recommendations based on the user.\n",
    "\n",
    "The implementation of this model is extremely trivial. All we have to do is sort our books based on ratings and popularity and display the top books of our list. As an added step, we can pass in a genre argument to get the top books of a particular genre.\n"
   ]
  },
  {
   "cell_type": "markdown",
   "metadata": {
    "colab_type": "text",
    "id": "81nk7tTpN27n"
   },
   "source": [
    "I will use IMDB's *weighted rating* formula to construct my chart. Mathematically, it is represented as follows:\n",
    "\n",
    "Weighted Rating (WR) = $(\\frac{v}{v + m} . R) + (\\frac{m}{v + m} . C)$\n",
    "\n",
    "where,\n",
    "* *v* is the number of ratings for the book\n",
    "* *m* is the minimum ratings required to be listed in the chart\n",
    "* *R* is the average rating of the book\n",
    "* *C* is the mean rating across the whole report\n",
    "\n",
    "The next step is to determine an appropriate value for *m*, the minimum ratings required to be listed in the chart. We will use **95th percentile** as our cutoff. In other words, for a book to feature in the charts, it must have more ratings than at least 95% of the books in the list.\n",
    "\n",
    "I will build our overall Top 250 Chart and will define a function to build charts for a particular genre. Let's begin!"
   ]
  },
  {
   "cell_type": "code",
   "execution_count": 6,
   "metadata": {
    "colab": {},
    "colab_type": "code",
    "id": "wKrQGOAjqq2R"
   },
   "outputs": [],
   "source": [
    "v = books['ratings_count']\n",
    "m = books['ratings_count'].quantile(0.95)\n",
    "R = books['average_rating']\n",
    "C = books['average_rating'].mean()\n",
    "W = (R*v + C*m) / (v + m)"
   ]
  },
  {
   "cell_type": "code",
   "execution_count": 7,
   "metadata": {
    "colab": {},
    "colab_type": "code",
    "id": "nKHwms335DrO"
   },
   "outputs": [],
   "source": [
    "books['weighted_rating'] = W"
   ]
  },
  {
   "cell_type": "code",
   "execution_count": 0,
   "metadata": {
    "colab": {},
    "colab_type": "code",
    "id": "pyQK0fIkqqzn"
   },
   "outputs": [],
   "source": [
    "qualified  = books.sort_values('weighted_rating', ascending=False).head(250)"
   ]
  },
  {
   "cell_type": "markdown",
   "metadata": {
    "colab_type": "text",
    "id": "F3jXFt7gqq4Z"
   },
   "source": [
    "## Top Books <a id=\"4\"></a> <br>"
   ]
  },
  {
   "cell_type": "code",
   "execution_count": 0,
   "metadata": {
    "colab": {
     "base_uri": "https://localhost:8080/",
     "height": 520
    },
    "colab_type": "code",
    "id": "3jJR_KvwQSSz",
    "outputId": "8dc43fc6-5956-47d7-f149-6d82cf6fad56"
   },
   "outputs": [
    {
     "data": {
      "text/html": [
       "<div>\n",
       "<style scoped>\n",
       "    .dataframe tbody tr th:only-of-type {\n",
       "        vertical-align: middle;\n",
       "    }\n",
       "\n",
       "    .dataframe tbody tr th {\n",
       "        vertical-align: top;\n",
       "    }\n",
       "\n",
       "    .dataframe thead th {\n",
       "        text-align: right;\n",
       "    }\n",
       "</style>\n",
       "<table border=\"1\" class=\"dataframe\">\n",
       "  <thead>\n",
       "    <tr style=\"text-align: right;\">\n",
       "      <th></th>\n",
       "      <th>title</th>\n",
       "      <th>authors</th>\n",
       "      <th>average_rating</th>\n",
       "      <th>weighted_rating</th>\n",
       "    </tr>\n",
       "  </thead>\n",
       "  <tbody>\n",
       "    <tr>\n",
       "      <th>24</th>\n",
       "      <td>Harry Potter and the Deathly Hallows (Harry Po...</td>\n",
       "      <td>J.K. Rowling, Mary GrandPré</td>\n",
       "      <td>4.61</td>\n",
       "      <td>4.555956</td>\n",
       "    </tr>\n",
       "    <tr>\n",
       "      <th>26</th>\n",
       "      <td>Harry Potter and the Half-Blood Prince (Harry ...</td>\n",
       "      <td>J.K. Rowling, Mary GrandPré</td>\n",
       "      <td>4.54</td>\n",
       "      <td>4.490428</td>\n",
       "    </tr>\n",
       "    <tr>\n",
       "      <th>17</th>\n",
       "      <td>Harry Potter and the Prisoner of Azkaban (Harr...</td>\n",
       "      <td>J.K. Rowling, Mary GrandPré, Rufus Beck</td>\n",
       "      <td>4.53</td>\n",
       "      <td>4.485090</td>\n",
       "    </tr>\n",
       "    <tr>\n",
       "      <th>23</th>\n",
       "      <td>Harry Potter and the Goblet of Fire (Harry Pot...</td>\n",
       "      <td>J.K. Rowling, Mary GrandPré</td>\n",
       "      <td>4.53</td>\n",
       "      <td>4.483227</td>\n",
       "    </tr>\n",
       "    <tr>\n",
       "      <th>1</th>\n",
       "      <td>Harry Potter and the Sorcerer's Stone (Harry P...</td>\n",
       "      <td>J.K. Rowling, Mary GrandPré</td>\n",
       "      <td>4.44</td>\n",
       "      <td>4.424365</td>\n",
       "    </tr>\n",
       "    <tr>\n",
       "      <th>20</th>\n",
       "      <td>Harry Potter and the Order of the Phoenix (Har...</td>\n",
       "      <td>J.K. Rowling, Mary GrandPré</td>\n",
       "      <td>4.46</td>\n",
       "      <td>4.419054</td>\n",
       "    </tr>\n",
       "    <tr>\n",
       "      <th>30</th>\n",
       "      <td>The Help</td>\n",
       "      <td>Kathryn Stockett</td>\n",
       "      <td>4.45</td>\n",
       "      <td>4.405158</td>\n",
       "    </tr>\n",
       "    <tr>\n",
       "      <th>38</th>\n",
       "      <td>A Game of Thrones (A Song of Ice and Fire, #1)</td>\n",
       "      <td>George R.R. Martin</td>\n",
       "      <td>4.45</td>\n",
       "      <td>4.398759</td>\n",
       "    </tr>\n",
       "    <tr>\n",
       "      <th>134</th>\n",
       "      <td>A Storm of Swords (A Song of Ice and Fire, #3)</td>\n",
       "      <td>George R.R. Martin</td>\n",
       "      <td>4.54</td>\n",
       "      <td>4.396645</td>\n",
       "    </tr>\n",
       "    <tr>\n",
       "      <th>421</th>\n",
       "      <td>Harry Potter Boxset (Harry Potter, #1-7)</td>\n",
       "      <td>J.K. Rowling</td>\n",
       "      <td>4.74</td>\n",
       "      <td>4.391147</td>\n",
       "    </tr>\n",
       "    <tr>\n",
       "      <th>191</th>\n",
       "      <td>The Name of the Wind (The Kingkiller Chronicle...</td>\n",
       "      <td>Patrick Rothfuss</td>\n",
       "      <td>4.55</td>\n",
       "      <td>4.386341</td>\n",
       "    </tr>\n",
       "    <tr>\n",
       "      <th>160</th>\n",
       "      <td>The Return of the King (The Lord of the Rings,...</td>\n",
       "      <td>J.R.R. Tolkien</td>\n",
       "      <td>4.51</td>\n",
       "      <td>4.373561</td>\n",
       "    </tr>\n",
       "    <tr>\n",
       "      <th>174</th>\n",
       "      <td>The Last Olympian (Percy Jackson and the Olymp...</td>\n",
       "      <td>Rick Riordan</td>\n",
       "      <td>4.50</td>\n",
       "      <td>4.350597</td>\n",
       "    </tr>\n",
       "    <tr>\n",
       "      <th>22</th>\n",
       "      <td>Harry Potter and the Chamber of Secrets (Harry...</td>\n",
       "      <td>J.K. Rowling, Mary GrandPré</td>\n",
       "      <td>4.37</td>\n",
       "      <td>4.337845</td>\n",
       "    </tr>\n",
       "    <tr>\n",
       "      <th>306</th>\n",
       "      <td>The Wise Man's Fear (The Kingkiller Chronicle,...</td>\n",
       "      <td>Patrick Rothfuss</td>\n",
       "      <td>4.57</td>\n",
       "      <td>4.337421</td>\n",
       "    </tr>\n",
       "  </tbody>\n",
       "</table>\n",
       "</div>"
      ],
      "text/plain": [
       "                                                 title  ... weighted_rating\n",
       "24   Harry Potter and the Deathly Hallows (Harry Po...  ...        4.555956\n",
       "26   Harry Potter and the Half-Blood Prince (Harry ...  ...        4.490428\n",
       "17   Harry Potter and the Prisoner of Azkaban (Harr...  ...        4.485090\n",
       "23   Harry Potter and the Goblet of Fire (Harry Pot...  ...        4.483227\n",
       "1    Harry Potter and the Sorcerer's Stone (Harry P...  ...        4.424365\n",
       "20   Harry Potter and the Order of the Phoenix (Har...  ...        4.419054\n",
       "30                                            The Help  ...        4.405158\n",
       "38      A Game of Thrones (A Song of Ice and Fire, #1)  ...        4.398759\n",
       "134     A Storm of Swords (A Song of Ice and Fire, #3)  ...        4.396645\n",
       "421           Harry Potter Boxset (Harry Potter, #1-7)  ...        4.391147\n",
       "191  The Name of the Wind (The Kingkiller Chronicle...  ...        4.386341\n",
       "160  The Return of the King (The Lord of the Rings,...  ...        4.373561\n",
       "174  The Last Olympian (Percy Jackson and the Olymp...  ...        4.350597\n",
       "22   Harry Potter and the Chamber of Secrets (Harry...  ...        4.337845\n",
       "306  The Wise Man's Fear (The Kingkiller Chronicle,...  ...        4.337421\n",
       "\n",
       "[15 rows x 4 columns]"
      ]
     },
     "execution_count": 11,
     "metadata": {
      "tags": []
     },
     "output_type": "execute_result"
    }
   ],
   "source": [
    "qualified[['title', 'authors', 'average_rating', 'weighted_rating']].head(15)"
   ]
  },
  {
   "cell_type": "markdown",
   "metadata": {
    "colab_type": "text",
    "id": "BFTag2FxRs9X"
   },
   "source": [
    "We see that J.K. Rowling's **Harry Potter** Books occur at the very top of our chart. The chart also indicates a strong bias of Goodreads Users towards particular genres and authors. \n",
    "\n",
    "Let us now construct our function that builds charts for particular genres. For this, we will use relax our default conditions to the **85th** percentile instead of 95. "
   ]
  },
  {
   "cell_type": "markdown",
   "metadata": {
    "colab_type": "text",
    "id": "GMc6tLV16lOr"
   },
   "source": [
    "## Top \"Genres\" Books <a id=\"5\"></a> <br>"
   ]
  },
  {
   "cell_type": "code",
   "execution_count": 0,
   "metadata": {
    "colab": {
     "base_uri": "https://localhost:8080/",
     "height": 206
    },
    "colab_type": "code",
    "id": "5PAb-_lT6lKw",
    "outputId": "a66341d2-f507-4c1f-c408-3d9ff7f05012"
   },
   "outputs": [
    {
     "data": {
      "text/html": [
       "<div>\n",
       "<style scoped>\n",
       "    .dataframe tbody tr th:only-of-type {\n",
       "        vertical-align: middle;\n",
       "    }\n",
       "\n",
       "    .dataframe tbody tr th {\n",
       "        vertical-align: top;\n",
       "    }\n",
       "\n",
       "    .dataframe thead th {\n",
       "        text-align: right;\n",
       "    }\n",
       "</style>\n",
       "<table border=\"1\" class=\"dataframe\">\n",
       "  <thead>\n",
       "    <tr style=\"text-align: right;\">\n",
       "      <th></th>\n",
       "      <th>goodreads_book_id</th>\n",
       "      <th>tag_id</th>\n",
       "      <th>count</th>\n",
       "    </tr>\n",
       "  </thead>\n",
       "  <tbody>\n",
       "    <tr>\n",
       "      <th>0</th>\n",
       "      <td>1</td>\n",
       "      <td>30574</td>\n",
       "      <td>167697</td>\n",
       "    </tr>\n",
       "    <tr>\n",
       "      <th>1</th>\n",
       "      <td>1</td>\n",
       "      <td>11305</td>\n",
       "      <td>37174</td>\n",
       "    </tr>\n",
       "    <tr>\n",
       "      <th>2</th>\n",
       "      <td>1</td>\n",
       "      <td>11557</td>\n",
       "      <td>34173</td>\n",
       "    </tr>\n",
       "    <tr>\n",
       "      <th>3</th>\n",
       "      <td>1</td>\n",
       "      <td>8717</td>\n",
       "      <td>12986</td>\n",
       "    </tr>\n",
       "    <tr>\n",
       "      <th>4</th>\n",
       "      <td>1</td>\n",
       "      <td>33114</td>\n",
       "      <td>12716</td>\n",
       "    </tr>\n",
       "  </tbody>\n",
       "</table>\n",
       "</div>"
      ],
      "text/plain": [
       "   goodreads_book_id  tag_id   count\n",
       "0                  1   30574  167697\n",
       "1                  1   11305   37174\n",
       "2                  1   11557   34173\n",
       "3                  1    8717   12986\n",
       "4                  1   33114   12716"
      ]
     },
     "execution_count": 12,
     "metadata": {
      "tags": []
     },
     "output_type": "execute_result"
    }
   ],
   "source": [
    "book_tags.head()"
   ]
  },
  {
   "cell_type": "code",
   "execution_count": 0,
   "metadata": {
    "colab": {
     "base_uri": "https://localhost:8080/",
     "height": 206
    },
    "colab_type": "code",
    "id": "ayb2ddHN7hrJ",
    "outputId": "76487a9b-d482-460c-cbe4-1044bfc8ab7b"
   },
   "outputs": [
    {
     "data": {
      "text/html": [
       "<div>\n",
       "<style scoped>\n",
       "    .dataframe tbody tr th:only-of-type {\n",
       "        vertical-align: middle;\n",
       "    }\n",
       "\n",
       "    .dataframe tbody tr th {\n",
       "        vertical-align: top;\n",
       "    }\n",
       "\n",
       "    .dataframe thead th {\n",
       "        text-align: right;\n",
       "    }\n",
       "</style>\n",
       "<table border=\"1\" class=\"dataframe\">\n",
       "  <thead>\n",
       "    <tr style=\"text-align: right;\">\n",
       "      <th></th>\n",
       "      <th>tag_id</th>\n",
       "      <th>tag_name</th>\n",
       "    </tr>\n",
       "  </thead>\n",
       "  <tbody>\n",
       "    <tr>\n",
       "      <th>0</th>\n",
       "      <td>0</td>\n",
       "      <td>-</td>\n",
       "    </tr>\n",
       "    <tr>\n",
       "      <th>1</th>\n",
       "      <td>1</td>\n",
       "      <td>--1-</td>\n",
       "    </tr>\n",
       "    <tr>\n",
       "      <th>2</th>\n",
       "      <td>2</td>\n",
       "      <td>--10-</td>\n",
       "    </tr>\n",
       "    <tr>\n",
       "      <th>3</th>\n",
       "      <td>3</td>\n",
       "      <td>--12-</td>\n",
       "    </tr>\n",
       "    <tr>\n",
       "      <th>4</th>\n",
       "      <td>4</td>\n",
       "      <td>--122-</td>\n",
       "    </tr>\n",
       "  </tbody>\n",
       "</table>\n",
       "</div>"
      ],
      "text/plain": [
       "   tag_id tag_name\n",
       "0       0        -\n",
       "1       1     --1-\n",
       "2       2    --10-\n",
       "3       3    --12-\n",
       "4       4   --122-"
      ]
     },
     "execution_count": 13,
     "metadata": {
      "tags": []
     },
     "output_type": "execute_result"
    }
   ],
   "source": [
    "tags.head()"
   ]
  },
  {
   "cell_type": "code",
   "execution_count": 0,
   "metadata": {
    "colab": {},
    "colab_type": "code",
    "id": "vFo__ouS7jNS"
   },
   "outputs": [],
   "source": [
    "genres = [\"Art\", \"Biography\", \"Business\", \"Chick Lit\", \"Children's\", \"Christian\", \"Classics\",\n",
    "          \"Comics\", \"Contemporary\", \"Cookbooks\", \"Crime\", \"Ebooks\", \"Fantasy\", \"Fiction\",\n",
    "          \"Gay and Lesbian\", \"Graphic Novels\", \"Historical Fiction\", \"History\", \"Horror\",\n",
    "          \"Humor and Comedy\", \"Manga\", \"Memoir\", \"Music\", \"Mystery\", \"Nonfiction\", \"Paranormal\",\n",
    "          \"Philosophy\", \"Poetry\", \"Psychology\", \"Religion\", \"Romance\", \"Science\", \"Science Fiction\", \n",
    "          \"Self Help\", \"Suspense\", \"Spirituality\", \"Sports\", \"Thriller\", \"Travel\", \"Young Adult\"]"
   ]
  },
  {
   "cell_type": "code",
   "execution_count": 0,
   "metadata": {
    "colab": {
     "base_uri": "https://localhost:8080/",
     "height": 35
    },
    "colab_type": "code",
    "id": "5UmINY4x8bFH",
    "outputId": "ce49cfc1-24c1-4f8d-d03f-9c523d1030ca"
   },
   "outputs": [
    {
     "data": {
      "text/plain": [
       "['art', 'biography', 'business', 'chick lit']"
      ]
     },
     "execution_count": 15,
     "metadata": {
      "tags": []
     },
     "output_type": "execute_result"
    }
   ],
   "source": [
    "genres = list(map(str.lower, genres))\n",
    "genres[:4]"
   ]
  },
  {
   "cell_type": "code",
   "execution_count": 0,
   "metadata": {
    "colab": {},
    "colab_type": "code",
    "id": "cQ3eKWQv8eIE"
   },
   "outputs": [],
   "source": [
    "available_genres = tags.loc[tags.tag_name.str.lower().isin(genres)]"
   ]
  },
  {
   "cell_type": "code",
   "execution_count": 0,
   "metadata": {
    "colab": {
     "base_uri": "https://localhost:8080/",
     "height": 206
    },
    "colab_type": "code",
    "id": "UBJpBN5O_xi9",
    "outputId": "64dc4763-368d-4f65-ddae-640d0d37c99f"
   },
   "outputs": [
    {
     "data": {
      "text/html": [
       "<div>\n",
       "<style scoped>\n",
       "    .dataframe tbody tr th:only-of-type {\n",
       "        vertical-align: middle;\n",
       "    }\n",
       "\n",
       "    .dataframe tbody tr th {\n",
       "        vertical-align: top;\n",
       "    }\n",
       "\n",
       "    .dataframe thead th {\n",
       "        text-align: right;\n",
       "    }\n",
       "</style>\n",
       "<table border=\"1\" class=\"dataframe\">\n",
       "  <thead>\n",
       "    <tr style=\"text-align: right;\">\n",
       "      <th></th>\n",
       "      <th>tag_id</th>\n",
       "      <th>tag_name</th>\n",
       "    </tr>\n",
       "  </thead>\n",
       "  <tbody>\n",
       "    <tr>\n",
       "      <th>2938</th>\n",
       "      <td>2938</td>\n",
       "      <td>art</td>\n",
       "    </tr>\n",
       "    <tr>\n",
       "      <th>4605</th>\n",
       "      <td>4605</td>\n",
       "      <td>biography</td>\n",
       "    </tr>\n",
       "    <tr>\n",
       "      <th>5951</th>\n",
       "      <td>5951</td>\n",
       "      <td>business</td>\n",
       "    </tr>\n",
       "    <tr>\n",
       "      <th>7077</th>\n",
       "      <td>7077</td>\n",
       "      <td>christian</td>\n",
       "    </tr>\n",
       "    <tr>\n",
       "      <th>7457</th>\n",
       "      <td>7457</td>\n",
       "      <td>classics</td>\n",
       "    </tr>\n",
       "  </tbody>\n",
       "</table>\n",
       "</div>"
      ],
      "text/plain": [
       "      tag_id   tag_name\n",
       "2938    2938        art\n",
       "4605    4605  biography\n",
       "5951    5951   business\n",
       "7077    7077  christian\n",
       "7457    7457   classics"
      ]
     },
     "execution_count": 17,
     "metadata": {
      "tags": []
     },
     "output_type": "execute_result"
    }
   ],
   "source": [
    "available_genres.head()"
   ]
  },
  {
   "cell_type": "code",
   "execution_count": 0,
   "metadata": {
    "colab": {},
    "colab_type": "code",
    "id": "B_OyDxFj8oBh"
   },
   "outputs": [],
   "source": [
    "available_genres_books = book_tags[book_tags.tag_id.isin(available_genres.tag_id)]"
   ]
  },
  {
   "cell_type": "code",
   "execution_count": 0,
   "metadata": {
    "colab": {
     "base_uri": "https://localhost:8080/",
     "height": 35
    },
    "colab_type": "code",
    "id": "nNfv5lelS6Qw",
    "outputId": "1dee089c-c509-458b-809a-5dba33425efb"
   },
   "outputs": [
    {
     "name": "stdout",
     "output_type": "stream",
     "text": [
      "There are 60573 books that are tagged with above genres\n"
     ]
    }
   ],
   "source": [
    "print('There are {} books that are tagged with above genres'.format(available_genres_books.shape[0]))"
   ]
  },
  {
   "cell_type": "code",
   "execution_count": 0,
   "metadata": {
    "colab": {
     "base_uri": "https://localhost:8080/",
     "height": 206
    },
    "colab_type": "code",
    "id": "9lNkBNHN8w8v",
    "outputId": "38808861-4a30-4681-a68c-6582323a7388"
   },
   "outputs": [
    {
     "data": {
      "text/html": [
       "<div>\n",
       "<style scoped>\n",
       "    .dataframe tbody tr th:only-of-type {\n",
       "        vertical-align: middle;\n",
       "    }\n",
       "\n",
       "    .dataframe tbody tr th {\n",
       "        vertical-align: top;\n",
       "    }\n",
       "\n",
       "    .dataframe thead th {\n",
       "        text-align: right;\n",
       "    }\n",
       "</style>\n",
       "<table border=\"1\" class=\"dataframe\">\n",
       "  <thead>\n",
       "    <tr style=\"text-align: right;\">\n",
       "      <th></th>\n",
       "      <th>goodreads_book_id</th>\n",
       "      <th>tag_id</th>\n",
       "      <th>count</th>\n",
       "    </tr>\n",
       "  </thead>\n",
       "  <tbody>\n",
       "    <tr>\n",
       "      <th>1</th>\n",
       "      <td>1</td>\n",
       "      <td>11305</td>\n",
       "      <td>37174</td>\n",
       "    </tr>\n",
       "    <tr>\n",
       "      <th>5</th>\n",
       "      <td>1</td>\n",
       "      <td>11743</td>\n",
       "      <td>9954</td>\n",
       "    </tr>\n",
       "    <tr>\n",
       "      <th>25</th>\n",
       "      <td>1</td>\n",
       "      <td>7457</td>\n",
       "      <td>958</td>\n",
       "    </tr>\n",
       "    <tr>\n",
       "      <th>38</th>\n",
       "      <td>1</td>\n",
       "      <td>22973</td>\n",
       "      <td>673</td>\n",
       "    </tr>\n",
       "    <tr>\n",
       "      <th>52</th>\n",
       "      <td>1</td>\n",
       "      <td>20939</td>\n",
       "      <td>465</td>\n",
       "    </tr>\n",
       "  </tbody>\n",
       "</table>\n",
       "</div>"
      ],
      "text/plain": [
       "    goodreads_book_id  tag_id  count\n",
       "1                   1   11305  37174\n",
       "5                   1   11743   9954\n",
       "25                  1    7457    958\n",
       "38                  1   22973    673\n",
       "52                  1   20939    465"
      ]
     },
     "execution_count": 25,
     "metadata": {
      "tags": []
     },
     "output_type": "execute_result"
    }
   ],
   "source": [
    "available_genres_books.head()"
   ]
  },
  {
   "cell_type": "code",
   "execution_count": 0,
   "metadata": {
    "colab": {
     "base_uri": "https://localhost:8080/",
     "height": 206
    },
    "colab_type": "code",
    "id": "1xFVeC2d6lGa",
    "outputId": "b9851c43-31d4-41bc-bb81-6a9a68764460"
   },
   "outputs": [
    {
     "data": {
      "text/html": [
       "<div>\n",
       "<style scoped>\n",
       "    .dataframe tbody tr th:only-of-type {\n",
       "        vertical-align: middle;\n",
       "    }\n",
       "\n",
       "    .dataframe tbody tr th {\n",
       "        vertical-align: top;\n",
       "    }\n",
       "\n",
       "    .dataframe thead th {\n",
       "        text-align: right;\n",
       "    }\n",
       "</style>\n",
       "<table border=\"1\" class=\"dataframe\">\n",
       "  <thead>\n",
       "    <tr style=\"text-align: right;\">\n",
       "      <th></th>\n",
       "      <th>goodreads_book_id</th>\n",
       "      <th>tag_id</th>\n",
       "      <th>count</th>\n",
       "      <th>genre</th>\n",
       "    </tr>\n",
       "  </thead>\n",
       "  <tbody>\n",
       "    <tr>\n",
       "      <th>1</th>\n",
       "      <td>1</td>\n",
       "      <td>11305</td>\n",
       "      <td>37174</td>\n",
       "      <td>fantasy</td>\n",
       "    </tr>\n",
       "    <tr>\n",
       "      <th>5</th>\n",
       "      <td>1</td>\n",
       "      <td>11743</td>\n",
       "      <td>9954</td>\n",
       "      <td>fiction</td>\n",
       "    </tr>\n",
       "    <tr>\n",
       "      <th>25</th>\n",
       "      <td>1</td>\n",
       "      <td>7457</td>\n",
       "      <td>958</td>\n",
       "      <td>classics</td>\n",
       "    </tr>\n",
       "    <tr>\n",
       "      <th>38</th>\n",
       "      <td>1</td>\n",
       "      <td>22973</td>\n",
       "      <td>673</td>\n",
       "      <td>paranormal</td>\n",
       "    </tr>\n",
       "    <tr>\n",
       "      <th>52</th>\n",
       "      <td>1</td>\n",
       "      <td>20939</td>\n",
       "      <td>465</td>\n",
       "      <td>mystery</td>\n",
       "    </tr>\n",
       "  </tbody>\n",
       "</table>\n",
       "</div>"
      ],
      "text/plain": [
       "    goodreads_book_id  tag_id  count       genre\n",
       "1                   1   11305  37174     fantasy\n",
       "5                   1   11743   9954     fiction\n",
       "25                  1    7457    958    classics\n",
       "38                  1   22973    673  paranormal\n",
       "52                  1   20939    465     mystery"
      ]
     },
     "execution_count": 27,
     "metadata": {
      "tags": []
     },
     "output_type": "execute_result"
    }
   ],
   "source": [
    "available_genres_books['genre'] = available_genres.tag_name.loc[available_genres_books.tag_id].values\n",
    "available_genres_books.head()"
   ]
  },
  {
   "cell_type": "code",
   "execution_count": 0,
   "metadata": {
    "colab": {},
    "colab_type": "code",
    "id": "eeKeqAFm6lCc"
   },
   "outputs": [],
   "source": [
    "def build_chart(genre, percentile=0.85):\n",
    "    df = available_genres_books[available_genres_books['genre'] == genre.lower()]\n",
    "    qualified = books.set_index('book_id').loc[df.goodreads_book_id]\n",
    "\n",
    "    v = qualified['ratings_count']\n",
    "    m = qualified['ratings_count'].quantile(percentile)\n",
    "    R = qualified['average_rating']\n",
    "    C = qualified['average_rating'].mean()\n",
    "    qualified['weighted_rating'] = (R*v + C*m) / (v + m)\n",
    "\n",
    "    qualified.sort_values('weighted_rating', ascending=False, inplace=True)\n",
    "    return qualified"
   ]
  },
  {
   "cell_type": "markdown",
   "metadata": {
    "colab_type": "text",
    "id": "k4_okZ1xTkfs"
   },
   "source": [
    "Let us see our method in action by displaying the Top 15 Fiction Books (Fiction almost didn't feature at all in our Generic Top Chart despite being one of the most popular movie genres)."
   ]
  },
  {
   "cell_type": "code",
   "execution_count": 0,
   "metadata": {
    "colab": {},
    "colab_type": "code",
    "id": "RHH5QZC0E7aa"
   },
   "outputs": [],
   "source": [
    "cols = ['title','authors','original_publication_year','average_rating','ratings_count','work_text_reviews_count','weighted_rating']"
   ]
  },
  {
   "cell_type": "code",
   "execution_count": 0,
   "metadata": {
    "colab": {
     "base_uri": "https://localhost:8080/",
     "height": 1000
    },
    "colab_type": "code",
    "id": "va0OSKXxEpLX",
    "outputId": "c2dae1e6-021f-4182-8204-be6ab6703637"
   },
   "outputs": [
    {
     "data": {
      "text/html": [
       "<div>\n",
       "<style scoped>\n",
       "    .dataframe tbody tr th:only-of-type {\n",
       "        vertical-align: middle;\n",
       "    }\n",
       "\n",
       "    .dataframe tbody tr th {\n",
       "        vertical-align: top;\n",
       "    }\n",
       "\n",
       "    .dataframe thead th {\n",
       "        text-align: right;\n",
       "    }\n",
       "</style>\n",
       "<table border=\"1\" class=\"dataframe\">\n",
       "  <thead>\n",
       "    <tr style=\"text-align: right;\">\n",
       "      <th></th>\n",
       "      <th>title</th>\n",
       "      <th>authors</th>\n",
       "      <th>original_publication_year</th>\n",
       "      <th>average_rating</th>\n",
       "      <th>ratings_count</th>\n",
       "      <th>work_text_reviews_count</th>\n",
       "      <th>weighted_rating</th>\n",
       "    </tr>\n",
       "    <tr>\n",
       "      <th>book_id</th>\n",
       "      <th></th>\n",
       "      <th></th>\n",
       "      <th></th>\n",
       "      <th></th>\n",
       "      <th></th>\n",
       "      <th></th>\n",
       "      <th></th>\n",
       "    </tr>\n",
       "  </thead>\n",
       "  <tbody>\n",
       "    <tr>\n",
       "      <th>136251</th>\n",
       "      <td>Harry Potter and the Deathly Hallows (Harry Po...</td>\n",
       "      <td>J.K. Rowling, Mary GrandPré</td>\n",
       "      <td>2007</td>\n",
       "      <td>4.61</td>\n",
       "      <td>1746574</td>\n",
       "      <td>51942</td>\n",
       "      <td>4.587098</td>\n",
       "    </tr>\n",
       "    <tr>\n",
       "      <th>862041</th>\n",
       "      <td>Harry Potter Boxset (Harry Potter, #1-7)</td>\n",
       "      <td>J.K. Rowling</td>\n",
       "      <td>1998</td>\n",
       "      <td>4.74</td>\n",
       "      <td>190050</td>\n",
       "      <td>6508</td>\n",
       "      <td>4.544691</td>\n",
       "    </tr>\n",
       "    <tr>\n",
       "      <th>1</th>\n",
       "      <td>Harry Potter and the Half-Blood Prince (Harry ...</td>\n",
       "      <td>J.K. Rowling, Mary GrandPré</td>\n",
       "      <td>2005</td>\n",
       "      <td>4.54</td>\n",
       "      <td>1678823</td>\n",
       "      <td>27520</td>\n",
       "      <td>4.518933</td>\n",
       "    </tr>\n",
       "    <tr>\n",
       "      <th>5</th>\n",
       "      <td>Harry Potter and the Prisoner of Azkaban (Harr...</td>\n",
       "      <td>J.K. Rowling, Mary GrandPré, Rufus Beck</td>\n",
       "      <td>1999</td>\n",
       "      <td>4.53</td>\n",
       "      <td>1832823</td>\n",
       "      <td>36099</td>\n",
       "      <td>4.510997</td>\n",
       "    </tr>\n",
       "    <tr>\n",
       "      <th>6</th>\n",
       "      <td>Harry Potter and the Goblet of Fire (Harry Pot...</td>\n",
       "      <td>J.K. Rowling, Mary GrandPré</td>\n",
       "      <td>2000</td>\n",
       "      <td>4.53</td>\n",
       "      <td>1753043</td>\n",
       "      <td>31084</td>\n",
       "      <td>4.510164</td>\n",
       "    </tr>\n",
       "    <tr>\n",
       "      <th>62291</th>\n",
       "      <td>A Storm of Swords (A Song of Ice and Fire, #3)</td>\n",
       "      <td>George R.R. Martin</td>\n",
       "      <td>2000</td>\n",
       "      <td>4.54</td>\n",
       "      <td>469022</td>\n",
       "      <td>19497</td>\n",
       "      <td>4.471466</td>\n",
       "    </tr>\n",
       "    <tr>\n",
       "      <th>186074</th>\n",
       "      <td>The Name of the Wind (The Kingkiller Chronicle...</td>\n",
       "      <td>Patrick Rothfuss</td>\n",
       "      <td>2007</td>\n",
       "      <td>4.55</td>\n",
       "      <td>400101</td>\n",
       "      <td>28631</td>\n",
       "      <td>4.469922</td>\n",
       "    </tr>\n",
       "    <tr>\n",
       "      <th>1215032</th>\n",
       "      <td>The Wise Man's Fear (The Kingkiller Chronicle,...</td>\n",
       "      <td>Patrick Rothfuss</td>\n",
       "      <td>2011</td>\n",
       "      <td>4.57</td>\n",
       "      <td>245686</td>\n",
       "      <td>15503</td>\n",
       "      <td>4.446163</td>\n",
       "    </tr>\n",
       "    <tr>\n",
       "      <th>18512</th>\n",
       "      <td>The Return of the King (The Lord of the Rings,...</td>\n",
       "      <td>J.R.R. Tolkien</td>\n",
       "      <td>1955</td>\n",
       "      <td>4.51</td>\n",
       "      <td>463959</td>\n",
       "      <td>6644</td>\n",
       "      <td>4.444645</td>\n",
       "    </tr>\n",
       "    <tr>\n",
       "      <th>2</th>\n",
       "      <td>Harry Potter and the Order of the Phoenix (Har...</td>\n",
       "      <td>J.K. Rowling, Mary GrandPré</td>\n",
       "      <td>2003</td>\n",
       "      <td>4.46</td>\n",
       "      <td>1735368</td>\n",
       "      <td>28685</td>\n",
       "      <td>4.442607</td>\n",
       "    </tr>\n",
       "    <tr>\n",
       "      <th>17927395</th>\n",
       "      <td>A Court of Mist and Fury (A Court of Thorns an...</td>\n",
       "      <td>Sarah J. Maas</td>\n",
       "      <td>2016</td>\n",
       "      <td>4.72</td>\n",
       "      <td>108384</td>\n",
       "      <td>22700</td>\n",
       "      <td>4.441935</td>\n",
       "    </tr>\n",
       "    <tr>\n",
       "      <th>7235533</th>\n",
       "      <td>The Way of Kings (The Stormlight Archive, #1)</td>\n",
       "      <td>Brandon Sanderson</td>\n",
       "      <td>2010</td>\n",
       "      <td>4.64</td>\n",
       "      <td>144822</td>\n",
       "      <td>10947</td>\n",
       "      <td>4.435102</td>\n",
       "    </tr>\n",
       "    <tr>\n",
       "      <th>3</th>\n",
       "      <td>Harry Potter and the Sorcerer's Stone (Harry P...</td>\n",
       "      <td>J.K. Rowling, Mary GrandPré</td>\n",
       "      <td>1997</td>\n",
       "      <td>4.44</td>\n",
       "      <td>4602479</td>\n",
       "      <td>75867</td>\n",
       "      <td>4.433575</td>\n",
       "    </tr>\n",
       "    <tr>\n",
       "      <th>4667024</th>\n",
       "      <td>The Help</td>\n",
       "      <td>Kathryn Stockett</td>\n",
       "      <td>2009</td>\n",
       "      <td>4.45</td>\n",
       "      <td>1531753</td>\n",
       "      <td>78204</td>\n",
       "      <td>4.430818</td>\n",
       "    </tr>\n",
       "    <tr>\n",
       "      <th>13496</th>\n",
       "      <td>A Game of Thrones (A Song of Ice and Fire, #1)</td>\n",
       "      <td>George R.R. Martin</td>\n",
       "      <td>1996</td>\n",
       "      <td>4.45</td>\n",
       "      <td>1319204</td>\n",
       "      <td>46205</td>\n",
       "      <td>4.427878</td>\n",
       "    </tr>\n",
       "  </tbody>\n",
       "</table>\n",
       "</div>"
      ],
      "text/plain": [
       "                                                      title  ... weighted_rating\n",
       "book_id                                                      ...                \n",
       "136251    Harry Potter and the Deathly Hallows (Harry Po...  ...        4.587098\n",
       "862041             Harry Potter Boxset (Harry Potter, #1-7)  ...        4.544691\n",
       "1         Harry Potter and the Half-Blood Prince (Harry ...  ...        4.518933\n",
       "5         Harry Potter and the Prisoner of Azkaban (Harr...  ...        4.510997\n",
       "6         Harry Potter and the Goblet of Fire (Harry Pot...  ...        4.510164\n",
       "62291        A Storm of Swords (A Song of Ice and Fire, #3)  ...        4.471466\n",
       "186074    The Name of the Wind (The Kingkiller Chronicle...  ...        4.469922\n",
       "1215032   The Wise Man's Fear (The Kingkiller Chronicle,...  ...        4.446163\n",
       "18512     The Return of the King (The Lord of the Rings,...  ...        4.444645\n",
       "2         Harry Potter and the Order of the Phoenix (Har...  ...        4.442607\n",
       "17927395  A Court of Mist and Fury (A Court of Thorns an...  ...        4.441935\n",
       "7235533       The Way of Kings (The Stormlight Archive, #1)  ...        4.435102\n",
       "3         Harry Potter and the Sorcerer's Stone (Harry P...  ...        4.433575\n",
       "4667024                                            The Help  ...        4.430818\n",
       "13496        A Game of Thrones (A Song of Ice and Fire, #1)  ...        4.427878\n",
       "\n",
       "[15 rows x 7 columns]"
      ]
     },
     "execution_count": 71,
     "metadata": {
      "tags": []
     },
     "output_type": "execute_result"
    }
   ],
   "source": [
    "genre = 'Fiction'\n",
    "build_chart(genre)[cols].head(15)"
   ]
  },
  {
   "cell_type": "markdown",
   "metadata": {
    "colab_type": "text",
    "id": "-k3oe2oIXAg3"
   },
   "source": [
    "For simplicity, you can just pass the index of the wanted genre from below. "
   ]
  },
  {
   "cell_type": "code",
   "execution_count": 0,
   "metadata": {
    "colab": {
     "base_uri": "https://localhost:8080/",
     "height": 590
    },
    "colab_type": "code",
    "id": "3YjaavNdWr6_",
    "outputId": "b6e52622-495b-48ee-ea7c-e4690aebd45b"
   },
   "outputs": [
    {
     "data": {
      "text/plain": [
       "[(0, 'art'),\n",
       " (1, 'biography'),\n",
       " (2, 'business'),\n",
       " (3, 'christian'),\n",
       " (4, 'classics'),\n",
       " (5, 'comics'),\n",
       " (6, 'contemporary'),\n",
       " (7, 'cookbooks'),\n",
       " (8, 'crime'),\n",
       " (9, 'ebooks'),\n",
       " (10, 'fantasy'),\n",
       " (11, 'fiction'),\n",
       " (12, 'history'),\n",
       " (13, 'horror'),\n",
       " (14, 'manga'),\n",
       " (15, 'memoir'),\n",
       " (16, 'music'),\n",
       " (17, 'mystery'),\n",
       " (18, 'nonfiction'),\n",
       " (19, 'paranormal'),\n",
       " (20, 'philosophy'),\n",
       " (21, 'poetry'),\n",
       " (22, 'psychology'),\n",
       " (23, 'religion'),\n",
       " (24, 'romance'),\n",
       " (25, 'science'),\n",
       " (26, 'spirituality'),\n",
       " (27, 'sports'),\n",
       " (28, 'suspense'),\n",
       " (29, 'thriller'),\n",
       " (30, 'travel')]"
      ]
     },
     "execution_count": 34,
     "metadata": {
      "tags": []
     },
     "output_type": "execute_result"
    }
   ],
   "source": [
    "list(enumerate(available_genres.tag_name))"
   ]
  },
  {
   "cell_type": "code",
   "execution_count": 0,
   "metadata": {
    "colab": {
     "base_uri": "https://localhost:8080/",
     "height": 1000
    },
    "colab_type": "code",
    "id": "MTp5oX4-YEgA",
    "outputId": "70543229-7a23-417f-c947-687106c5a085"
   },
   "outputs": [
    {
     "data": {
      "text/html": [
       "<div>\n",
       "<style scoped>\n",
       "    .dataframe tbody tr th:only-of-type {\n",
       "        vertical-align: middle;\n",
       "    }\n",
       "\n",
       "    .dataframe tbody tr th {\n",
       "        vertical-align: top;\n",
       "    }\n",
       "\n",
       "    .dataframe thead th {\n",
       "        text-align: right;\n",
       "    }\n",
       "</style>\n",
       "<table border=\"1\" class=\"dataframe\">\n",
       "  <thead>\n",
       "    <tr style=\"text-align: right;\">\n",
       "      <th></th>\n",
       "      <th>title</th>\n",
       "      <th>authors</th>\n",
       "      <th>original_publication_year</th>\n",
       "      <th>average_rating</th>\n",
       "      <th>ratings_count</th>\n",
       "      <th>work_text_reviews_count</th>\n",
       "      <th>weighted_rating</th>\n",
       "    </tr>\n",
       "    <tr>\n",
       "      <th>book_id</th>\n",
       "      <th></th>\n",
       "      <th></th>\n",
       "      <th></th>\n",
       "      <th></th>\n",
       "      <th></th>\n",
       "      <th></th>\n",
       "      <th></th>\n",
       "    </tr>\n",
       "  </thead>\n",
       "  <tbody>\n",
       "    <tr>\n",
       "      <th>136251</th>\n",
       "      <td>Harry Potter and the Deathly Hallows (Harry Po...</td>\n",
       "      <td>J.K. Rowling, Mary GrandPré</td>\n",
       "      <td>2007</td>\n",
       "      <td>4.61</td>\n",
       "      <td>1746574</td>\n",
       "      <td>51942</td>\n",
       "      <td>4.586504</td>\n",
       "    </tr>\n",
       "    <tr>\n",
       "      <th>862041</th>\n",
       "      <td>Harry Potter Boxset (Harry Potter, #1-7)</td>\n",
       "      <td>J.K. Rowling</td>\n",
       "      <td>1998</td>\n",
       "      <td>4.74</td>\n",
       "      <td>190050</td>\n",
       "      <td>6508</td>\n",
       "      <td>4.540846</td>\n",
       "    </tr>\n",
       "    <tr>\n",
       "      <th>1</th>\n",
       "      <td>Harry Potter and the Half-Blood Prince (Harry ...</td>\n",
       "      <td>J.K. Rowling, Mary GrandPré</td>\n",
       "      <td>2005</td>\n",
       "      <td>4.54</td>\n",
       "      <td>1678823</td>\n",
       "      <td>27520</td>\n",
       "      <td>4.518389</td>\n",
       "    </tr>\n",
       "    <tr>\n",
       "      <th>62291</th>\n",
       "      <td>A Storm of Swords (A Song of Ice and Fire, #3)</td>\n",
       "      <td>George R.R. Martin</td>\n",
       "      <td>2000</td>\n",
       "      <td>4.54</td>\n",
       "      <td>469022</td>\n",
       "      <td>19497</td>\n",
       "      <td>4.469871</td>\n",
       "    </tr>\n",
       "    <tr>\n",
       "      <th>186074</th>\n",
       "      <td>The Name of the Wind (The Kingkiller Chronicle...</td>\n",
       "      <td>Patrick Rothfuss</td>\n",
       "      <td>2007</td>\n",
       "      <td>4.55</td>\n",
       "      <td>400101</td>\n",
       "      <td>28631</td>\n",
       "      <td>4.468099</td>\n",
       "    </tr>\n",
       "    <tr>\n",
       "      <th>1215032</th>\n",
       "      <td>The Wise Man's Fear (The Kingkiller Chronicle,...</td>\n",
       "      <td>Patrick Rothfuss</td>\n",
       "      <td>2011</td>\n",
       "      <td>4.57</td>\n",
       "      <td>245686</td>\n",
       "      <td>15503</td>\n",
       "      <td>4.443591</td>\n",
       "    </tr>\n",
       "    <tr>\n",
       "      <th>2</th>\n",
       "      <td>Harry Potter and the Order of the Phoenix (Har...</td>\n",
       "      <td>J.K. Rowling, Mary GrandPré</td>\n",
       "      <td>2003</td>\n",
       "      <td>4.46</td>\n",
       "      <td>1735368</td>\n",
       "      <td>28685</td>\n",
       "      <td>4.442161</td>\n",
       "    </tr>\n",
       "    <tr>\n",
       "      <th>13496</th>\n",
       "      <td>A Game of Thrones (A Song of Ice and Fire, #1)</td>\n",
       "      <td>George R.R. Martin</td>\n",
       "      <td>1996</td>\n",
       "      <td>4.45</td>\n",
       "      <td>1319204</td>\n",
       "      <td>46205</td>\n",
       "      <td>4.427319</td>\n",
       "    </tr>\n",
       "    <tr>\n",
       "      <th>4502507</th>\n",
       "      <td>The Last Olympian (Percy Jackson and the Olymp...</td>\n",
       "      <td>Rick Riordan</td>\n",
       "      <td>2009</td>\n",
       "      <td>4.50</td>\n",
       "      <td>397500</td>\n",
       "      <td>17693</td>\n",
       "      <td>4.425116</td>\n",
       "    </tr>\n",
       "    <tr>\n",
       "      <th>21853621</th>\n",
       "      <td>The Nightingale</td>\n",
       "      <td>Kristin Hannah</td>\n",
       "      <td>2015</td>\n",
       "      <td>4.54</td>\n",
       "      <td>253606</td>\n",
       "      <td>37279</td>\n",
       "      <td>4.423164</td>\n",
       "    </tr>\n",
       "    <tr>\n",
       "      <th>18335634</th>\n",
       "      <td>Clockwork Princess (The Infernal Devices, #3)</td>\n",
       "      <td>Cassandra Clare</td>\n",
       "      <td>2013</td>\n",
       "      <td>4.59</td>\n",
       "      <td>162099</td>\n",
       "      <td>23261</td>\n",
       "      <td>4.412013</td>\n",
       "    </tr>\n",
       "    <tr>\n",
       "      <th>17332218</th>\n",
       "      <td>Words of Radiance (The Stormlight Archive, #2)</td>\n",
       "      <td>Brandon Sanderson</td>\n",
       "      <td>2014</td>\n",
       "      <td>4.77</td>\n",
       "      <td>73572</td>\n",
       "      <td>7261</td>\n",
       "      <td>4.394486</td>\n",
       "    </tr>\n",
       "    <tr>\n",
       "      <th>12127810</th>\n",
       "      <td>The House of Hades (The Heroes of Olympus, #4)</td>\n",
       "      <td>Rick Riordan</td>\n",
       "      <td>2013</td>\n",
       "      <td>4.54</td>\n",
       "      <td>159774</td>\n",
       "      <td>11843</td>\n",
       "      <td>4.375419</td>\n",
       "    </tr>\n",
       "    <tr>\n",
       "      <th>12127750</th>\n",
       "      <td>The Mark of Athena (The Heroes of Olympus, #3)</td>\n",
       "      <td>Rick Riordan</td>\n",
       "      <td>2012</td>\n",
       "      <td>4.47</td>\n",
       "      <td>277491</td>\n",
       "      <td>13332</td>\n",
       "      <td>4.375274</td>\n",
       "    </tr>\n",
       "    <tr>\n",
       "      <th>10025305</th>\n",
       "      <td>Clockwork Prince (The Infernal Devices, #2)</td>\n",
       "      <td>Cassandra Clare</td>\n",
       "      <td>2011</td>\n",
       "      <td>4.46</td>\n",
       "      <td>307994</td>\n",
       "      <td>17854</td>\n",
       "      <td>4.374770</td>\n",
       "    </tr>\n",
       "  </tbody>\n",
       "</table>\n",
       "</div>"
      ],
      "text/plain": [
       "                                                      title  ... weighted_rating\n",
       "book_id                                                      ...                \n",
       "136251    Harry Potter and the Deathly Hallows (Harry Po...  ...        4.586504\n",
       "862041             Harry Potter Boxset (Harry Potter, #1-7)  ...        4.540846\n",
       "1         Harry Potter and the Half-Blood Prince (Harry ...  ...        4.518389\n",
       "62291        A Storm of Swords (A Song of Ice and Fire, #3)  ...        4.469871\n",
       "186074    The Name of the Wind (The Kingkiller Chronicle...  ...        4.468099\n",
       "1215032   The Wise Man's Fear (The Kingkiller Chronicle,...  ...        4.443591\n",
       "2         Harry Potter and the Order of the Phoenix (Har...  ...        4.442161\n",
       "13496        A Game of Thrones (A Song of Ice and Fire, #1)  ...        4.427319\n",
       "4502507   The Last Olympian (Percy Jackson and the Olymp...  ...        4.425116\n",
       "21853621                                    The Nightingale  ...        4.423164\n",
       "18335634      Clockwork Princess (The Infernal Devices, #3)  ...        4.412013\n",
       "17332218     Words of Radiance (The Stormlight Archive, #2)  ...        4.394486\n",
       "12127810     The House of Hades (The Heroes of Olympus, #4)  ...        4.375419\n",
       "12127750     The Mark of Athena (The Heroes of Olympus, #3)  ...        4.375274\n",
       "10025305        Clockwork Prince (The Infernal Devices, #2)  ...        4.374770\n",
       "\n",
       "[15 rows x 7 columns]"
      ]
     },
     "execution_count": 75,
     "metadata": {
      "tags": []
     },
     "output_type": "execute_result"
    }
   ],
   "source": [
    "idx = 24  # romance\n",
    "build_chart(list(available_genres.tag_name)[idx])[cols].head(15)"
   ]
  },
  {
   "cell_type": "markdown",
   "metadata": {
    "colab_type": "text",
    "id": "hroF9GNx6kuV"
   },
   "source": [
    "# Content Based Recommender <a id=\"6\"></a> <br>\n",
    "\n",
    "![](https://miro.medium.com/max/828/1*1b-yMSGZ1HfxvHiJCiPV7Q.png)\n",
    "\n",
    "The recommender we built in the previous section suffers some severe limitations. For one, it gives the same recommendation to everyone, regardless of the user's personal taste. If a person who loves business books (and hates fiction) were to look at our Top 15 Chart, s/he wouldn't probably like most of the books. If s/he were to go one step further and look at our charts by genre, s/he wouldn't still be getting the best recommendations.\n",
    "\n",
    "For instance, consider a person who loves *The Fault in Our Stars*, *Twilight*. One inference we can obtain is that the person loves the romaintic books. Even if s/he were to access the romance chart, s/he wouldn't find these as the top recommendations.\n",
    "\n",
    "To personalise our recommendations more, I am going to build an engine that computes similarity between movies based on certain metrics and suggests books that are most similar to a particular book that a user liked. Since we will be using book metadata (or content) to build this engine, this also known as **Content Based Filtering.**\n",
    "\n",
    "I will build this recommender based on book's *Title*, *Authors* and *Genres*."
   ]
  },
  {
   "cell_type": "code",
   "execution_count": 8,
   "metadata": {
    "colab": {},
    "colab_type": "code",
    "id": "DQShWhLZ6kpR"
   },
   "outputs": [],
   "source": [
    "from sklearn.feature_extraction.text import TfidfVectorizer, CountVectorizer\n",
    "from sklearn.metrics.pairwise import linear_kernel, cosine_similarity"
   ]
  },
  {
   "cell_type": "markdown",
   "metadata": {
    "colab_type": "text",
    "id": "e7WsQcOwnQue"
   },
   "source": [
    "My approach to building the recommender is going to be extremely *hacky*. These are steps I plan to do:\n",
    "1. **Strip Spaces and Convert to Lowercase** from authors. This way, our engine will not confuse between **Stephen Covey** and **Stephen King**.\n",
    "2. Combining books with their corresponding **genres** .\n",
    "2. I then use a **Count Vectorizer** to create our count matrix.\n",
    "\n",
    "Finally, we calculate the cosine similarities and return books that are most similar."
   ]
  },
  {
   "cell_type": "code",
   "execution_count": 9,
   "metadata": {
    "colab": {},
    "colab_type": "code",
    "id": "HokM9GCS6gnW"
   },
   "outputs": [],
   "source": [
    "books['authors'] = books['authors'].apply(lambda x: [str.lower(i.replace(\" \", \"\")) for i in x.split(', ')])"
   ]
  },
  {
   "cell_type": "code",
   "execution_count": 10,
   "metadata": {
    "colab": {},
    "colab_type": "code",
    "id": "ip1sb3mXqqrz"
   },
   "outputs": [],
   "source": [
    "def get_genres(x):\n",
    "    t = book_tags[book_tags.goodreads_book_id==x]\n",
    "    return [i.lower().replace(\" \", \"\") for i in tags.tag_name.loc[t.tag_id].values]"
   ]
  },
  {
   "cell_type": "code",
   "execution_count": 11,
   "metadata": {
    "colab": {},
    "colab_type": "code",
    "id": "spP7eG0Jqqeh"
   },
   "outputs": [],
   "source": [
    "books['genres'] = books.book_id.apply(get_genres)"
   ]
  },
  {
   "cell_type": "code",
   "execution_count": 12,
   "metadata": {
    "colab": {},
    "colab_type": "code",
    "id": "iqSKkmECZMhM"
   },
   "outputs": [],
   "source": [
    "books['soup'] = books.apply(lambda x: ' '.join([x['title']] + x['authors'] + x['genres']), axis=1)"
   ]
  },
  {
   "cell_type": "code",
   "execution_count": 20,
   "metadata": {
    "colab": {
     "base_uri": "https://localhost:8080/",
     "height": 128
    },
    "colab_type": "code",
    "id": "c479L2y_ZLof",
    "outputId": "962284f8-ff09-440f-b2c2-3f963e823e47"
   },
   "outputs": [
    {
     "data": {
      "text/plain": [
       "0    The Hunger Games (The Hunger Games, #1) suzann...\n",
       "1    Harry Potter and the Sorcerer's Stone (Harry P...\n",
       "2    Twilight (Twilight, #1) stepheniemeyer young-a...\n",
       "3    To Kill a Mockingbird harperlee classics favor...\n",
       "4    The Great Gatsby f.scottfitzgerald classics fa...\n",
       "Name: soup, dtype: object"
      ]
     },
     "execution_count": 20,
     "metadata": {
      "tags": []
     },
     "output_type": "execute_result"
    }
   ],
   "source": [
    "books.soup.head()"
   ]
  },
  {
   "cell_type": "code",
   "execution_count": 13,
   "metadata": {
    "colab": {},
    "colab_type": "code",
    "id": "sPNi5G9BPlJD"
   },
   "outputs": [],
   "source": [
    "count = CountVectorizer(analyzer='word',ngram_range=(1, 2),min_df=0, stop_words='english')\n",
    "count_matrix = count.fit_transform(books['soup'])"
   ]
  },
  {
   "cell_type": "markdown",
   "metadata": {
    "colab_type": "text",
    "id": "f_7rPZLbmpb4"
   },
   "source": [
    "## Cosine Similarity <a id=\"7\"></a> <br>\n",
    "\n",
    "I will be using the Cosine Similarity to calculate a numeric quantity that denotes the similarity between two books. Mathematically, it is defined as follows:\n",
    "\n",
    "$cosine(x,y) = \\frac{x. y^\\intercal}{||x||.||y||} $\n",
    "\n"
   ]
  },
  {
   "cell_type": "code",
   "execution_count": 14,
   "metadata": {
    "colab": {},
    "colab_type": "code",
    "id": "T6MhcaD9PlEo"
   },
   "outputs": [],
   "source": [
    "cosine_sim = cosine_similarity(count_matrix, count_matrix)"
   ]
  },
  {
   "cell_type": "code",
   "execution_count": 0,
   "metadata": {
    "colab": {},
    "colab_type": "code",
    "id": "c-ztOORJPlAL"
   },
   "outputs": [],
   "source": [
    "indices = pd.Series(books.index, index=books['title'])\n",
    "titles = books['title']"
   ]
  },
  {
   "cell_type": "code",
   "execution_count": 0,
   "metadata": {
    "colab": {},
    "colab_type": "code",
    "id": "y7wmaielPk7Q"
   },
   "outputs": [],
   "source": [
    "def get_recommendations(title, n=10):\n",
    "    idx = indices[title]\n",
    "    sim_scores = list(enumerate(cosine_sim[idx]))\n",
    "    sim_scores = sorted(sim_scores, key=lambda x: x[1], reverse=True)\n",
    "    sim_scores = sim_scores[1:31]\n",
    "    book_indices = [i[0] for i in sim_scores]\n",
    "    return list(titles.iloc[book_indices].values)[:n]"
   ]
  },
  {
   "cell_type": "code",
   "execution_count": 0,
   "metadata": {
    "colab": {
     "base_uri": "https://localhost:8080/",
     "height": 202
    },
    "colab_type": "code",
    "id": "SUYieXRigWaj",
    "outputId": "23dad6b8-462d-4a61-b9d7-6589abbdf31b"
   },
   "outputs": [
    {
     "data": {
      "text/plain": [
       "[\"Good to Great: Why Some Companies Make the Leap... and Others Don't\",\n",
       " \"First, Break All the Rules: What the World's Greatest Managers Do Differently\",\n",
       " 'Execution: The Discipline of Getting Things Done',\n",
       " \"What Got You Here Won't Get You There: How Successful People Become Even More Successful\",\n",
       " 'Start with Why: How Great Leaders Inspire Everyone to Take Action',\n",
       " 'Great by Choice: Uncertainty, Chaos, and Luck--Why Some Thrive Despite Them All',\n",
       " 'The 21 Irrefutable Laws of Leadership: Follow Them and People Will Follow You',\n",
       " 'The Speed of Trust: The One Thing that Changes Everything',\n",
       " 'Fish: A Proven Way to Boost Morale and Improve Results',\n",
       " 'Leadership and Self-Deception: Getting Out of the Box']"
      ]
     },
     "execution_count": 94,
     "metadata": {
      "tags": []
     },
     "output_type": "execute_result"
    }
   ],
   "source": [
    "get_recommendations(\"The One Minute Manager\")"
   ]
  },
  {
   "cell_type": "markdown",
   "metadata": {
    "colab_type": "text",
    "id": "lA-T1LSNrx7X"
   },
   "source": [
    "What if I want a specific book but I can't remember it's full name!!\n",
    "\n",
    "So I created the following *method* to get book titles from a **partial** title."
   ]
  },
  {
   "cell_type": "code",
   "execution_count": 0,
   "metadata": {
    "colab": {},
    "colab_type": "code",
    "id": "ZT8MEPDePk0k"
   },
   "outputs": [],
   "source": [
    "def get_name_from_partial(title):\n",
    "    return list(books.title[books.title.str.lower().str.contains(title) == True].values)"
   ]
  },
  {
   "cell_type": "code",
   "execution_count": 18,
   "metadata": {
    "colab": {
     "base_uri": "https://localhost:8080/",
     "height": 628
    },
    "colab_type": "code",
    "id": "dPR9Qi5hf8Xu",
    "outputId": "822a6d24-1d1c-44bf-f569-ebaab3f3d0b0"
   },
   "outputs": [
    {
     "data": {
      "text/plain": [
       "[(0, 'The Power of Habit: Why We Do What We Do in Life and Business'),\n",
       " (1,\n",
       "  \"The Lean Startup: How Today's Entrepreneurs Use Continuous Innovation to Create Radically Successful Businesses\"),\n",
       " (2,\n",
       "  'Caps for Sale: A Tale of a Peddler, Some Monkeys and Their Monkey Business'),\n",
       " (3,\n",
       "  \"The E-Myth Revisited: Why Most Small Businesses Don't Work and What to Do About It\"),\n",
       " (4, 'The Snowball: Warren Buffett and the Business of Life'),\n",
       " (5,\n",
       "  \"The Innovator's Dilemma: The Revolutionary Book that Will Change the Way You Do Business (Collins Business Essentials)\"),\n",
       " (6, 'The Intelligent Investor (Collins Business Essentials)'),\n",
       " (7, 'Purple Cow: Transform Your Business by Being Remarkable'),\n",
       " (8, 'Business Model Generation'),\n",
       " (9, 'The Long Tail: Why the Future of Business is Selling Less of More'),\n",
       " (10,\n",
       "  \"Losing My Virginity: How I've Survived, Had Fun, and Made a Fortune Doing Business My Way\"),\n",
       " (11,\n",
       "  'The Hard Thing About Hard Things: Building a Business When There Are No Easy Answers'),\n",
       " (12, 'Wicked Business (Lizzy & Diesel, #2)'),\n",
       " (13,\n",
       "  'The Effective Executive: The Definitive Guide to Getting the Right Things Done (Harperbusiness Essentials)'),\n",
       " (14,\n",
       "  'The Google Story: Inside the Hottest Business, Media, and Technology Success of Our Time'),\n",
       " (15, 'The Personal MBA: Master the Art of Business'),\n",
       " (16, 'Fifth Business'),\n",
       " (17,\n",
       "  'The Phoenix Project: A Novel About IT, DevOps, and Helping Your Business Win'),\n",
       " (18, 'Trouble Is My Business'),\n",
       " (19,\n",
       "  'Amusing Ourselves to Death: Public Discourse in the Age of Show Business'),\n",
       " (20,\n",
       "  'EntreLeadership: 20 Years of Practical Business Wisdom from the Trenches')]"
      ]
     },
     "execution_count": 18,
     "metadata": {
      "tags": []
     },
     "output_type": "execute_result"
    }
   ],
   "source": [
    "title = \"business\"\n",
    "l = get_name_from_partial(title)\n",
    "list(enumerate(l))"
   ]
  },
  {
   "cell_type": "code",
   "execution_count": 0,
   "metadata": {
    "colab": {
     "base_uri": "https://localhost:8080/",
     "height": 202
    },
    "colab_type": "code",
    "id": "3lNMzyOJFudD",
    "outputId": "12217785-e7e3-48da-ecdc-0b57f9a2c1cd"
   },
   "outputs": [
    {
     "data": {
      "text/plain": [
       "['Rework',\n",
       " 'The Hard Thing About Hard Things: Building a Business When There Are No Easy Answers',\n",
       " 'Blue Ocean Strategy: How To Create Uncontested Market Space And Make The Competition Irrelevant',\n",
       " 'The Art of the Start: The Time-Tested, Battle-Hardened Guide for Anyone Starting Anything',\n",
       " \"Good to Great: Why Some Companies Make the Leap... and Others Don't\",\n",
       " 'Start with Why: How Great Leaders Inspire Everyone to Take Action',\n",
       " 'Zero to One: Notes on Startups, or How to Build the Future',\n",
       " \"The E-Myth Revisited: Why Most Small Businesses Don't Work and What to Do About It\",\n",
       " 'How Google Works',\n",
       " 'Delivering Happiness: A Path to Profits, Passion, and Purpose']"
      ]
     },
     "execution_count": 96,
     "metadata": {
      "tags": []
     },
     "output_type": "execute_result"
    }
   ],
   "source": [
    "get_recommendations(l[1])"
   ]
  },
  {
   "cell_type": "markdown",
   "metadata": {
    "colab_type": "text",
    "id": "_5OygKDAs5qU"
   },
   "source": [
    "## Popularity and Ratings <a id=\"8\"></a> <br>\n",
    "\n",
    "One thing that we notice about our recommendation system is that it recommends books regardless of ratings and popularity. It is true that ***Across the River and Into the Trees*** and ***The Old Man and the Sea*** were written by **Ernest Hemingway**, but the former one was cnosidered a bad (not the worst) book that shouldn't be recommended to anyone, since that most people hated the book for it's static plot and overwrought emotion.\n",
    "\n",
    "Therefore, we will add a mechanism to remove bad books and return books which are popular and have had a good critical response.\n",
    "\n",
    "I will take the top 30 movies based on similarity scores and calculate the vote of the 60th percentile book. Then, using this as the value of $m$, we will calculate the weighted rating of each book using IMDB's formula like we did in the Simple Recommender section."
   ]
  },
  {
   "cell_type": "code",
   "execution_count": 0,
   "metadata": {
    "colab": {},
    "colab_type": "code",
    "id": "UvUjfFHeKZWZ"
   },
   "outputs": [],
   "source": [
    "def improved_recommendations(title, n=10):\n",
    "    idx = indices[title]\n",
    "    sim_scores = list(enumerate(cosine_sim[idx]))\n",
    "    sim_scores = sorted(sim_scores, key=lambda x: x[1], reverse=True)\n",
    "    sim_scores = sim_scores[1:31]\n",
    "    book_indices = [i[0] for i in sim_scores]\n",
    "    df = books.iloc[book_indices][['title', 'ratings_count', 'average_rating', 'weighted_rating']]\n",
    "\n",
    "    v = df['ratings_count']\n",
    "    m = df['ratings_count'].quantile(0.60)\n",
    "    R = df['average_rating']\n",
    "    C = df['average_rating'].mean()\n",
    "    df['weighted_rating'] = (R*v + C*m) / (v + m)\n",
    "    \n",
    "    qualified = df[df['ratings_count'] >= m]\n",
    "    qualified = qualified.sort_values('weighted_rating', ascending=False)\n",
    "    return qualified.head(n)"
   ]
  },
  {
   "cell_type": "code",
   "execution_count": 0,
   "metadata": {
    "colab": {
     "base_uri": "https://localhost:8080/",
     "height": 363
    },
    "colab_type": "code",
    "id": "UWuNhj8bz2VL",
    "outputId": "b95f39f8-da1f-48e4-bb11-ab5fc1c5ca1b"
   },
   "outputs": [
    {
     "data": {
      "text/html": [
       "<div>\n",
       "<style scoped>\n",
       "    .dataframe tbody tr th:only-of-type {\n",
       "        vertical-align: middle;\n",
       "    }\n",
       "\n",
       "    .dataframe tbody tr th {\n",
       "        vertical-align: top;\n",
       "    }\n",
       "\n",
       "    .dataframe thead th {\n",
       "        text-align: right;\n",
       "    }\n",
       "</style>\n",
       "<table border=\"1\" class=\"dataframe\">\n",
       "  <thead>\n",
       "    <tr style=\"text-align: right;\">\n",
       "      <th></th>\n",
       "      <th>title</th>\n",
       "      <th>ratings_count</th>\n",
       "      <th>average_rating</th>\n",
       "      <th>weighted_rating</th>\n",
       "    </tr>\n",
       "  </thead>\n",
       "  <tbody>\n",
       "    <tr>\n",
       "      <th>2559</th>\n",
       "      <td>The 21 Irrefutable Laws of Leadership: Follow ...</td>\n",
       "      <td>30255</td>\n",
       "      <td>4.12</td>\n",
       "      <td>4.060190</td>\n",
       "    </tr>\n",
       "    <tr>\n",
       "      <th>246</th>\n",
       "      <td>The 7 Habits of Highly Effective People: Power...</td>\n",
       "      <td>314700</td>\n",
       "      <td>4.05</td>\n",
       "      <td>4.045478</td>\n",
       "    </tr>\n",
       "    <tr>\n",
       "      <th>3234</th>\n",
       "      <td>Start with Why: How Great Leaders Inspire Ever...</td>\n",
       "      <td>32899</td>\n",
       "      <td>4.07</td>\n",
       "      <td>4.035066</td>\n",
       "    </tr>\n",
       "    <tr>\n",
       "      <th>931</th>\n",
       "      <td>Good to Great: Why Some Companies Make the Lea...</td>\n",
       "      <td>85277</td>\n",
       "      <td>4.04</td>\n",
       "      <td>4.028535</td>\n",
       "    </tr>\n",
       "    <tr>\n",
       "      <th>2326</th>\n",
       "      <td>The Five Dysfunctions of a Team: A Leadership ...</td>\n",
       "      <td>40239</td>\n",
       "      <td>4.01</td>\n",
       "      <td>4.002625</td>\n",
       "    </tr>\n",
       "    <tr>\n",
       "      <th>2387</th>\n",
       "      <td>Delivering Happiness: A Path to Profits, Passi...</td>\n",
       "      <td>37601</td>\n",
       "      <td>4.01</td>\n",
       "      <td>4.002321</td>\n",
       "    </tr>\n",
       "    <tr>\n",
       "      <th>2413</th>\n",
       "      <td>The E-Myth Revisited: Why Most Small Businesse...</td>\n",
       "      <td>37671</td>\n",
       "      <td>3.98</td>\n",
       "      <td>3.984657</td>\n",
       "    </tr>\n",
       "    <tr>\n",
       "      <th>2219</th>\n",
       "      <td>Built to Last: Successful Habits of Visionary ...</td>\n",
       "      <td>39618</td>\n",
       "      <td>3.98</td>\n",
       "      <td>3.984520</td>\n",
       "    </tr>\n",
       "    <tr>\n",
       "      <th>3360</th>\n",
       "      <td>First, Break All the Rules: What the World's G...</td>\n",
       "      <td>27207</td>\n",
       "      <td>3.92</td>\n",
       "      <td>3.955049</td>\n",
       "    </tr>\n",
       "    <tr>\n",
       "      <th>989</th>\n",
       "      <td>Rework</td>\n",
       "      <td>88626</td>\n",
       "      <td>3.93</td>\n",
       "      <td>3.944028</td>\n",
       "    </tr>\n",
       "  </tbody>\n",
       "</table>\n",
       "</div>"
      ],
      "text/plain": [
       "                                                  title  ...  weighted_rating\n",
       "2559  The 21 Irrefutable Laws of Leadership: Follow ...  ...         4.060190\n",
       "246   The 7 Habits of Highly Effective People: Power...  ...         4.045478\n",
       "3234  Start with Why: How Great Leaders Inspire Ever...  ...         4.035066\n",
       "931   Good to Great: Why Some Companies Make the Lea...  ...         4.028535\n",
       "2326  The Five Dysfunctions of a Team: A Leadership ...  ...         4.002625\n",
       "2387  Delivering Happiness: A Path to Profits, Passi...  ...         4.002321\n",
       "2413  The E-Myth Revisited: Why Most Small Businesse...  ...         3.984657\n",
       "2219  Built to Last: Successful Habits of Visionary ...  ...         3.984520\n",
       "3360  First, Break All the Rules: What the World's G...  ...         3.955049\n",
       "989                                              Rework  ...         3.944028\n",
       "\n",
       "[10 rows x 4 columns]"
      ]
     },
     "execution_count": 98,
     "metadata": {
      "tags": []
     },
     "output_type": "execute_result"
    }
   ],
   "source": [
    "improved_recommendations(\"The One Minute Manager\")"
   ]
  },
  {
   "cell_type": "code",
   "execution_count": 0,
   "metadata": {
    "colab": {
     "base_uri": "https://localhost:8080/",
     "height": 363
    },
    "colab_type": "code",
    "id": "zB2IHYxTUJ6j",
    "outputId": "632d0431-6771-444c-b187-d5fad1bd4b60"
   },
   "outputs": [
    {
     "data": {
      "text/html": [
       "<div>\n",
       "<style scoped>\n",
       "    .dataframe tbody tr th:only-of-type {\n",
       "        vertical-align: middle;\n",
       "    }\n",
       "\n",
       "    .dataframe tbody tr th {\n",
       "        vertical-align: top;\n",
       "    }\n",
       "\n",
       "    .dataframe thead th {\n",
       "        text-align: right;\n",
       "    }\n",
       "</style>\n",
       "<table border=\"1\" class=\"dataframe\">\n",
       "  <thead>\n",
       "    <tr style=\"text-align: right;\">\n",
       "      <th></th>\n",
       "      <th>title</th>\n",
       "      <th>ratings_count</th>\n",
       "      <th>average_rating</th>\n",
       "      <th>weighted_rating</th>\n",
       "    </tr>\n",
       "  </thead>\n",
       "  <tbody>\n",
       "    <tr>\n",
       "      <th>2165</th>\n",
       "      <td>Zero to One: Notes on Startups, or How to Buil...</td>\n",
       "      <td>47807</td>\n",
       "      <td>4.17</td>\n",
       "      <td>4.097532</td>\n",
       "    </tr>\n",
       "    <tr>\n",
       "      <th>3234</th>\n",
       "      <td>Start with Why: How Great Leaders Inspire Ever...</td>\n",
       "      <td>32899</td>\n",
       "      <td>4.07</td>\n",
       "      <td>4.024009</td>\n",
       "    </tr>\n",
       "    <tr>\n",
       "      <th>931</th>\n",
       "      <td>Good to Great: Why Some Companies Make the Lea...</td>\n",
       "      <td>85277</td>\n",
       "      <td>4.04</td>\n",
       "      <td>4.022673</td>\n",
       "    </tr>\n",
       "    <tr>\n",
       "      <th>2387</th>\n",
       "      <td>Delivering Happiness: A Path to Profits, Passi...</td>\n",
       "      <td>37601</td>\n",
       "      <td>4.01</td>\n",
       "      <td>3.992207</td>\n",
       "    </tr>\n",
       "    <tr>\n",
       "      <th>2219</th>\n",
       "      <td>Built to Last: Successful Habits of Visionary ...</td>\n",
       "      <td>39618</td>\n",
       "      <td>3.98</td>\n",
       "      <td>3.974785</td>\n",
       "    </tr>\n",
       "    <tr>\n",
       "      <th>2413</th>\n",
       "      <td>The E-Myth Revisited: Why Most Small Businesse...</td>\n",
       "      <td>37671</td>\n",
       "      <td>3.98</td>\n",
       "      <td>3.974627</td>\n",
       "    </tr>\n",
       "    <tr>\n",
       "      <th>1925</th>\n",
       "      <td>Made to Stick: Why Some Ideas Survive and Othe...</td>\n",
       "      <td>46736</td>\n",
       "      <td>3.97</td>\n",
       "      <td>3.968913</td>\n",
       "    </tr>\n",
       "    <tr>\n",
       "      <th>3360</th>\n",
       "      <td>First, Break All the Rules: What the World's G...</td>\n",
       "      <td>27207</td>\n",
       "      <td>3.92</td>\n",
       "      <td>3.943209</td>\n",
       "    </tr>\n",
       "    <tr>\n",
       "      <th>989</th>\n",
       "      <td>Rework</td>\n",
       "      <td>88626</td>\n",
       "      <td>3.93</td>\n",
       "      <td>3.938527</td>\n",
       "    </tr>\n",
       "    <tr>\n",
       "      <th>2685</th>\n",
       "      <td>Blue Ocean Strategy: How To Create Uncontested...</td>\n",
       "      <td>30665</td>\n",
       "      <td>3.86</td>\n",
       "      <td>3.909643</td>\n",
       "    </tr>\n",
       "  </tbody>\n",
       "</table>\n",
       "</div>"
      ],
      "text/plain": [
       "                                                  title  ...  weighted_rating\n",
       "2165  Zero to One: Notes on Startups, or How to Buil...  ...         4.097532\n",
       "3234  Start with Why: How Great Leaders Inspire Ever...  ...         4.024009\n",
       "931   Good to Great: Why Some Companies Make the Lea...  ...         4.022673\n",
       "2387  Delivering Happiness: A Path to Profits, Passi...  ...         3.992207\n",
       "2219  Built to Last: Successful Habits of Visionary ...  ...         3.974785\n",
       "2413  The E-Myth Revisited: Why Most Small Businesse...  ...         3.974627\n",
       "1925  Made to Stick: Why Some Ideas Survive and Othe...  ...         3.968913\n",
       "3360  First, Break All the Rules: What the World's G...  ...         3.943209\n",
       "989                                              Rework  ...         3.938527\n",
       "2685  Blue Ocean Strategy: How To Create Uncontested...  ...         3.909643\n",
       "\n",
       "[10 rows x 4 columns]"
      ]
     },
     "execution_count": 97,
     "metadata": {
      "tags": []
     },
     "output_type": "execute_result"
    }
   ],
   "source": [
    "improved_recommendations(l[1])"
   ]
  },
  {
   "cell_type": "markdown",
   "metadata": {
    "colab_type": "text",
    "id": "P-w7hqRr0USI"
   },
   "source": [
    "I think the sorting of similar is more better now than before.\n",
    "Therefore, we will conclude our Content Based Recommender section here and come back to it when we build a hybrid engine.\n"
   ]
  },
  {
   "cell_type": "markdown",
   "metadata": {
    "colab_type": "text",
    "id": "O4LRJVQwQKgJ"
   },
   "source": [
    "# Collaborative Filtering <a id=\"9\"></a> <br>\n",
    "\n",
    "![](https://miro.medium.com/max/706/1*DYJ-HQnOVvmm5suNtqV3Jw.png)\n",
    "\n",
    "Our content based engine suffers from some severe limitations. It is only capable of suggesting books which are *close* to a certain book. That is, it is not capable of capturing tastes and providing recommendations across genres.\n",
    "\n",
    "Also, the engine that we built is not really personal in that it doesn't capture the personal tastes and biases of a user. Anyone querying our engine for recommendations based on a book will receive the same recommendations for that book, regardless of who s/he is.\n",
    "\n",
    "Therefore, in this section, we will use a technique called **Collaborative Filtering** to make recommendations to Book Readers. Collaborative Filtering is based on the idea that users similar to a me can be used to predict how much I will like a particular product or service those users have used/experienced but I have not.\n",
    "\n",
    "I will not be implementing Collaborative Filtering from scratch. Instead, I will use the **Surprise** library that used extremely powerful algorithms like **Singular Value Decomposition (SVD)** to minimise RMSE (Root Mean Square Error) and give great recommendations."
   ]
  },
  {
   "cell_type": "markdown",
   "metadata": {
    "colab_type": "text",
    "id": "YlrvMxcu1isO"
   },
   "source": [
    "There are two classes of Collaborative Filtering:\n",
    "![](https://miro.medium.com/max/1280/1*QvhetbRjCr1vryTch_2HZQ.jpeg)\n",
    "- **User-based**, which measures the similarity between target users and other users.\n",
    "- **Item-based**, which measures the similarity between the items that target users rate or interact with and other items."
   ]
  },
  {
   "cell_type": "markdown",
   "metadata": {
    "colab_type": "text",
    "id": "xYhmwHYmpRz-"
   },
   "source": [
    "## - User Based <a id=\"10\"></a> <br>"
   ]
  },
  {
   "cell_type": "code",
   "execution_count": 22,
   "metadata": {
    "colab": {
     "base_uri": "https://localhost:8080/",
     "height": 333
    },
    "colab_type": "code",
    "id": "hDzV5XLCJqYV",
    "outputId": "c34773e7-b068-4823-9f0d-749c69d8651f"
   },
   "outputs": [
    {
     "name": "stdout",
     "output_type": "stream",
     "text": [
      "Collecting surprise\n",
      "  Downloading https://files.pythonhosted.org/packages/61/de/e5cba8682201fcf9c3719a6fdda95693468ed061945493dea2dd37c5618b/surprise-0.1-py2.py3-none-any.whl\n",
      "Collecting scikit-surprise\n",
      "\u001b[?25l  Downloading https://files.pythonhosted.org/packages/f5/da/b5700d96495fb4f092be497f02492768a3d96a3f4fa2ae7dea46d4081cfa/scikit-surprise-1.1.0.tar.gz (6.4MB)\n",
      "\u001b[K     |████████████████████████████████| 6.5MB 4.4MB/s \n",
      "\u001b[?25hRequirement already satisfied: joblib>=0.11 in /usr/local/lib/python3.6/dist-packages (from scikit-surprise->surprise) (0.15.1)\n",
      "Requirement already satisfied: numpy>=1.11.2 in /usr/local/lib/python3.6/dist-packages (from scikit-surprise->surprise) (1.18.4)\n",
      "Requirement already satisfied: scipy>=1.0.0 in /usr/local/lib/python3.6/dist-packages (from scikit-surprise->surprise) (1.4.1)\n",
      "Requirement already satisfied: six>=1.10.0 in /usr/local/lib/python3.6/dist-packages (from scikit-surprise->surprise) (1.12.0)\n",
      "Building wheels for collected packages: scikit-surprise\n",
      "  Building wheel for scikit-surprise (setup.py) ... \u001b[?25l\u001b[?25hdone\n",
      "  Created wheel for scikit-surprise: filename=scikit_surprise-1.1.0-cp36-cp36m-linux_x86_64.whl size=1675366 sha256=22ba4916a027820f7980feeea6518e985c8c856c35ccb3ccdac962868a71439d\n",
      "  Stored in directory: /root/.cache/pip/wheels/cc/fa/8c/16c93fccce688ae1bde7d979ff102f7bee980d9cfeb8641bcf\n",
      "Successfully built scikit-surprise\n",
      "Installing collected packages: scikit-surprise, surprise\n",
      "Successfully installed scikit-surprise-1.1.0 surprise-0.1\n"
     ]
    }
   ],
   "source": [
    "# ! pip install surprise"
   ]
  },
  {
   "cell_type": "code",
   "execution_count": 15,
   "metadata": {
    "colab": {},
    "colab_type": "code",
    "id": "ma2geO1AJqVS"
   },
   "outputs": [],
   "source": [
    "from surprise import Reader, Dataset, SVD\n",
    "from surprise.model_selection import cross_validate"
   ]
  },
  {
   "cell_type": "code",
   "execution_count": 16,
   "metadata": {
    "colab": {},
    "colab_type": "code",
    "id": "FAc--07dJqPJ"
   },
   "outputs": [],
   "source": [
    "reader = Reader()\n",
    "data = Dataset.load_from_df(new_ratings[['user_id', 'book_id', 'rating']], reader)"
   ]
  },
  {
   "cell_type": "code",
   "execution_count": 17,
   "metadata": {
    "colab": {
     "base_uri": "https://localhost:8080/",
     "height": 239
    },
    "colab_type": "code",
    "id": "WBbpWOjiFvpI",
    "outputId": "09abcb06-ee34-4123-ae78-ae87c8799657"
   },
   "outputs": [
    {
     "data": {
      "text/plain": [
       "{'test_rmse': array([0.84083817, 0.84702611, 0.83877562, 0.84187425, 0.84246146]),\n",
       " 'test_mae': array([0.65713602, 0.6624717 , 0.65629914, 0.65811911, 0.65958816]),\n",
       " 'fit_time': (74.53910660743713,\n",
       "  81.3985276222229,\n",
       "  83.48874568939209,\n",
       "  84.68877649307251,\n",
       "  82.79882621765137),\n",
       " 'test_time': (3.269659996032715,\n",
       "  2.985201835632324,\n",
       "  3.425232410430908,\n",
       "  2.8402910232543945,\n",
       "  3.312274694442749)}"
      ]
     },
     "execution_count": 17,
     "metadata": {},
     "output_type": "execute_result"
    }
   ],
   "source": [
    "svd = SVD()\n",
    "cross_validate(svd, data, measures=['RMSE', 'MAE'])"
   ]
  },
  {
   "cell_type": "markdown",
   "metadata": {
    "colab_type": "text",
    "id": "93LFHQrM3s5B"
   },
   "source": [
    "We get a mean **Root Mean Sqaure Error** of about 0.8419 which is more than good enough for our case. Let us now train on our dataset and arrive at predictions."
   ]
  },
  {
   "cell_type": "code",
   "execution_count": 18,
   "metadata": {
    "colab": {},
    "colab_type": "code",
    "id": "0cGcoWb3f8R6"
   },
   "outputs": [],
   "source": [
    "trainset = data.build_full_trainset()\n",
    "svd.fit(trainset);"
   ]
  },
  {
   "cell_type": "markdown",
   "metadata": {
    "colab_type": "text",
    "id": "mEdB7Umj4Eg3"
   },
   "source": [
    "Let us pick users 10 and check the ratings s/he has given."
   ]
  },
  {
   "cell_type": "code",
   "execution_count": 0,
   "metadata": {
    "colab": {
     "base_uri": "https://localhost:8080/",
     "height": 551
    },
    "colab_type": "code",
    "id": "cQu2DL_qFtai",
    "outputId": "7b30401e-d73a-419f-b8a9-adf0c092fbfd"
   },
   "outputs": [
    {
     "data": {
      "text/html": [
       "<div>\n",
       "<style scoped>\n",
       "    .dataframe tbody tr th:only-of-type {\n",
       "        vertical-align: middle;\n",
       "    }\n",
       "\n",
       "    .dataframe tbody tr th {\n",
       "        vertical-align: top;\n",
       "    }\n",
       "\n",
       "    .dataframe thead th {\n",
       "        text-align: right;\n",
       "    }\n",
       "</style>\n",
       "<table border=\"1\" class=\"dataframe\">\n",
       "  <thead>\n",
       "    <tr style=\"text-align: right;\">\n",
       "      <th></th>\n",
       "      <th>book_id</th>\n",
       "      <th>user_id</th>\n",
       "      <th>rating</th>\n",
       "      <th>title</th>\n",
       "    </tr>\n",
       "  </thead>\n",
       "  <tbody>\n",
       "    <tr>\n",
       "      <th>150478</th>\n",
       "      <td>1506</td>\n",
       "      <td>10</td>\n",
       "      <td>4</td>\n",
       "      <td>The Zahir</td>\n",
       "    </tr>\n",
       "    <tr>\n",
       "      <th>282986</th>\n",
       "      <td>2833</td>\n",
       "      <td>10</td>\n",
       "      <td>4</td>\n",
       "      <td>The Prisoner of Heaven (The Cemetery of Forgot...</td>\n",
       "    </tr>\n",
       "    <tr>\n",
       "      <th>340448</th>\n",
       "      <td>3409</td>\n",
       "      <td>10</td>\n",
       "      <td>5</td>\n",
       "      <td>The Winner Stands Alone</td>\n",
       "    </tr>\n",
       "    <tr>\n",
       "      <th>393966</th>\n",
       "      <td>3946</td>\n",
       "      <td>10</td>\n",
       "      <td>5</td>\n",
       "      <td>Matterhorn</td>\n",
       "    </tr>\n",
       "    <tr>\n",
       "      <th>452158</th>\n",
       "      <td>4531</td>\n",
       "      <td>10</td>\n",
       "      <td>4</td>\n",
       "      <td>The Joke</td>\n",
       "    </tr>\n",
       "    <tr>\n",
       "      <th>506878</th>\n",
       "      <td>5084</td>\n",
       "      <td>10</td>\n",
       "      <td>2</td>\n",
       "      <td>The Sheltering Sky</td>\n",
       "    </tr>\n",
       "    <tr>\n",
       "      <th>588312</th>\n",
       "      <td>5907</td>\n",
       "      <td>10</td>\n",
       "      <td>4</td>\n",
       "      <td>Our Mutual Friend</td>\n",
       "    </tr>\n",
       "    <tr>\n",
       "      <th>590191</th>\n",
       "      <td>5926</td>\n",
       "      <td>10</td>\n",
       "      <td>2</td>\n",
       "      <td>The Night Watch</td>\n",
       "    </tr>\n",
       "    <tr>\n",
       "      <th>610487</th>\n",
       "      <td>6131</td>\n",
       "      <td>10</td>\n",
       "      <td>2</td>\n",
       "      <td>The Longest Day</td>\n",
       "    </tr>\n",
       "    <tr>\n",
       "      <th>696035</th>\n",
       "      <td>7002</td>\n",
       "      <td>10</td>\n",
       "      <td>5</td>\n",
       "      <td>A Mercy</td>\n",
       "    </tr>\n",
       "    <tr>\n",
       "      <th>743400</th>\n",
       "      <td>7486</td>\n",
       "      <td>10</td>\n",
       "      <td>4</td>\n",
       "      <td>Great House</td>\n",
       "    </tr>\n",
       "    <tr>\n",
       "      <th>759424</th>\n",
       "      <td>7651</td>\n",
       "      <td>10</td>\n",
       "      <td>4</td>\n",
       "      <td>All the Names</td>\n",
       "    </tr>\n",
       "    <tr>\n",
       "      <th>855593</th>\n",
       "      <td>8653</td>\n",
       "      <td>10</td>\n",
       "      <td>4</td>\n",
       "      <td>The End of Mr. Y</td>\n",
       "    </tr>\n",
       "    <tr>\n",
       "      <th>911432</th>\n",
       "      <td>9240</td>\n",
       "      <td>10</td>\n",
       "      <td>3</td>\n",
       "      <td>Arthur &amp; George</td>\n",
       "    </tr>\n",
       "    <tr>\n",
       "      <th>944600</th>\n",
       "      <td>9600</td>\n",
       "      <td>10</td>\n",
       "      <td>4</td>\n",
       "      <td>Await Your Reply</td>\n",
       "    </tr>\n",
       "    <tr>\n",
       "      <th>968243</th>\n",
       "      <td>9854</td>\n",
       "      <td>10</td>\n",
       "      <td>4</td>\n",
       "      <td>The Last Days of Dogtown</td>\n",
       "    </tr>\n",
       "  </tbody>\n",
       "</table>\n",
       "</div>"
      ],
      "text/plain": [
       "        book_id  ...                                              title\n",
       "150478     1506  ...                                          The Zahir\n",
       "282986     2833  ...  The Prisoner of Heaven (The Cemetery of Forgot...\n",
       "340448     3409  ...                            The Winner Stands Alone\n",
       "393966     3946  ...                                         Matterhorn\n",
       "452158     4531  ...                                           The Joke\n",
       "506878     5084  ...                                 The Sheltering Sky\n",
       "588312     5907  ...                                  Our Mutual Friend\n",
       "590191     5926  ...                                    The Night Watch\n",
       "610487     6131  ...                                    The Longest Day\n",
       "696035     7002  ...                                            A Mercy\n",
       "743400     7486  ...                                        Great House\n",
       "759424     7651  ...                                      All the Names\n",
       "855593     8653  ...                                   The End of Mr. Y\n",
       "911432     9240  ...                                    Arthur & George\n",
       "944600     9600  ...                                   Await Your Reply\n",
       "968243     9854  ...                           The Last Days of Dogtown\n",
       "\n",
       "[16 rows x 4 columns]"
      ]
     },
     "execution_count": 82,
     "metadata": {
      "tags": []
     },
     "output_type": "execute_result"
    }
   ],
   "source": [
    "new_ratings[new_ratings['user_id'] == 10]"
   ]
  },
  {
   "cell_type": "code",
   "execution_count": 0,
   "metadata": {
    "colab": {
     "base_uri": "https://localhost:8080/",
     "height": 35
    },
    "colab_type": "code",
    "id": "lM6lZz5Hf8Nx",
    "outputId": "c6b88f6d-6fd9-43ef-c5fd-e3c3af3c65ff"
   },
   "outputs": [
    {
     "data": {
      "text/plain": [
       "Prediction(uid=10, iid=1506, r_ui=None, est=3.458059401767818, details={'was_impossible': False})"
      ]
     },
     "execution_count": 117,
     "metadata": {
      "tags": []
     },
     "output_type": "execute_result"
    }
   ],
   "source": [
    "svd.predict(10, 1506)"
   ]
  },
  {
   "cell_type": "markdown",
   "metadata": {
    "colab_type": "text",
    "id": "MCigIoXb4Rtb"
   },
   "source": [
    "For book with ID 1506, we get an estimated prediction of **3.393**. One startling feature of this recommender system is that it doesn't care what the book is (or what it contains). It works purely on the basis of an assigned book ID and tries to predict ratings based on how the other users have predicted the book."
   ]
  },
  {
   "cell_type": "markdown",
   "metadata": {
    "colab_type": "text",
    "id": "6MJwxd8eoN5-"
   },
   "source": [
    "## - Item Based <a id=\"11\"></a> <br>"
   ]
  },
  {
   "cell_type": "markdown",
   "metadata": {
    "colab_type": "text",
    "id": "SsvE9gny49gW"
   },
   "source": [
    "Here we will build a table for users with their corresponding ratings for each book. "
   ]
  },
  {
   "cell_type": "code",
   "execution_count": 8,
   "metadata": {
    "colab": {
     "base_uri": "https://localhost:8080/",
     "height": 600
    },
    "colab_type": "code",
    "id": "blM9oM3eX37p",
    "outputId": "3ecf8b98-1fe0-40c3-aec5-7011358f881b"
   },
   "outputs": [
    {
     "data": {
      "text/html": [
       "<div>\n",
       "<style scoped>\n",
       "    .dataframe tbody tr th:only-of-type {\n",
       "        vertical-align: middle;\n",
       "    }\n",
       "\n",
       "    .dataframe tbody tr th {\n",
       "        vertical-align: top;\n",
       "    }\n",
       "\n",
       "    .dataframe thead th {\n",
       "        text-align: right;\n",
       "    }\n",
       "</style>\n",
       "<table border=\"1\" class=\"dataframe\">\n",
       "  <thead>\n",
       "    <tr style=\"text-align: right;\">\n",
       "      <th>title</th>\n",
       "      <th>Angels (Walsh Family, #3)</th>\n",
       "      <th>\"حكايات فرغلي المستكاوي \"حكايتى مع كفر السحلاوية</th>\n",
       "      <th>#GIRLBOSS</th>\n",
       "      <th>'Salem's Lot</th>\n",
       "      <th>'Tis (Frank McCourt, #2)</th>\n",
       "      <th>1,000 Places to See Before You Die</th>\n",
       "      <th>1/4 جرام</th>\n",
       "      <th>10% Happier: How I Tamed the Voice in My Head, Reduced Stress Without Losing My Edge, and Found Self-Help That Actually Works</th>\n",
       "      <th>100 Bullets, Vol. 1: First Shot, Last Call</th>\n",
       "      <th>100 Love Sonnets</th>\n",
       "      <th>100 Selected Poems</th>\n",
       "      <th>10th Anniversary (Women's Murder Club, #10)</th>\n",
       "      <th>11 Birthdays (Willow Falls, #1)</th>\n",
       "      <th>11/22/63</th>\n",
       "      <th>11th Hour (Women's Murder Club, #11)</th>\n",
       "      <th>12th of Never (Women's Murder Club, #12)</th>\n",
       "      <th>13 Gifts (Willow Falls, #3)</th>\n",
       "      <th>13 Hours: The Inside Account of What Really Happened In Benghazi</th>\n",
       "      <th>13 Little Blue Envelopes (Little Blue Envelope, #1)</th>\n",
       "      <th>14</th>\n",
       "      <th>1421: The Year China Discovered America</th>\n",
       "      <th>1491: New Revelations of the Americas Before Columbus</th>\n",
       "      <th>1493: Uncovering the New World Columbus Created</th>\n",
       "      <th>14th Deadly Sin (Women’s Murder Club, #14)</th>\n",
       "      <th>15th Affair (Women's Murder Club #15)</th>\n",
       "      <th>16 Lighthouse Road (Cedar Cove, #1)</th>\n",
       "      <th>1776</th>\n",
       "      <th>1919</th>\n",
       "      <th>1984</th>\n",
       "      <th>1Q84</th>\n",
       "      <th>1Q84 #1-2 (1Q84, #1-2)</th>\n",
       "      <th>1Q84 BOOK 1 (1Q84, #1)</th>\n",
       "      <th>1Q84 BOOK 2 (1Q84, #2)</th>\n",
       "      <th>1Q84 BOOK 3 (1Q84, #3)</th>\n",
       "      <th>1st to Die (Women's Murder Club, #1)</th>\n",
       "      <th>2 States: The Story of My Marriage</th>\n",
       "      <th>2 ضباط</th>\n",
       "      <th>2001: A Space Odyssey (Space Odyssey, #1)</th>\n",
       "      <th>2010: Odyssey Two (Space Odyssey, #2)</th>\n",
       "      <th>204 Rosewood Lane (Cedar Cove, #2)</th>\n",
       "      <th>...</th>\n",
       "      <th>ذاكرة الجسد</th>\n",
       "      <th>رأيت رام الله</th>\n",
       "      <th>رباعيات خيام</th>\n",
       "      <th>رباعيات صلاح جاهين</th>\n",
       "      <th>رجال في الشمس</th>\n",
       "      <th>رحلتي من الشك إلى الإيمان</th>\n",
       "      <th>رغم الفراق</th>\n",
       "      <th>زغازيغ</th>\n",
       "      <th>ساق البامبو</th>\n",
       "      <th>سمفونی مردگان</th>\n",
       "      <th>سینوهه</th>\n",
       "      <th>شاب كشك في رحلة البحث عن الجادون</th>\n",
       "      <th>شكلها باظت</th>\n",
       "      <th>شيكاجو</th>\n",
       "      <th>صانع الظلام</th>\n",
       "      <th>طه الغريب</th>\n",
       "      <th>ظل الأفعى</th>\n",
       "      <th>عائد إلى حيفا</th>\n",
       "      <th>عابر سرير</th>\n",
       "      <th>عزازيل</th>\n",
       "      <th>عقاید یک دلقک</th>\n",
       "      <th>فلتغفري</th>\n",
       "      <th>فوضى الحواس</th>\n",
       "      <th>في ديسمبر تنتهي كل الأحلام</th>\n",
       "      <th>في قلبي أنثى عبرية</th>\n",
       "      <th>قمر على سمرقند</th>\n",
       "      <th>كخه يا بابا</th>\n",
       "      <th>لا تحزن</th>\n",
       "      <th>ليتها تقرأ</th>\n",
       "      <th>ماهی سیاه کوچولو</th>\n",
       "      <th>محال</th>\n",
       "      <th>مخطوطة بن إسحاق: مدينة الموتى</th>\n",
       "      <th>نادي السيارات</th>\n",
       "      <th>هشت کتاب</th>\n",
       "      <th>هيبتا</th>\n",
       "      <th>واحة الغروب</th>\n",
       "      <th>يوتوبيا</th>\n",
       "      <th>ڤيرتيجو</th>\n",
       "      <th>キスよりも早く1 [Kisu Yorimo Hayaku 1] (Faster than a Kiss #1)</th>\n",
       "      <th>美少女戦士セーラームーン新装版 1 [Bishōjo Senshi Sailor Moon Shinsōban 1]</th>\n",
       "    </tr>\n",
       "    <tr>\n",
       "      <th>user_id</th>\n",
       "      <th></th>\n",
       "      <th></th>\n",
       "      <th></th>\n",
       "      <th></th>\n",
       "      <th></th>\n",
       "      <th></th>\n",
       "      <th></th>\n",
       "      <th></th>\n",
       "      <th></th>\n",
       "      <th></th>\n",
       "      <th></th>\n",
       "      <th></th>\n",
       "      <th></th>\n",
       "      <th></th>\n",
       "      <th></th>\n",
       "      <th></th>\n",
       "      <th></th>\n",
       "      <th></th>\n",
       "      <th></th>\n",
       "      <th></th>\n",
       "      <th></th>\n",
       "      <th></th>\n",
       "      <th></th>\n",
       "      <th></th>\n",
       "      <th></th>\n",
       "      <th></th>\n",
       "      <th></th>\n",
       "      <th></th>\n",
       "      <th></th>\n",
       "      <th></th>\n",
       "      <th></th>\n",
       "      <th></th>\n",
       "      <th></th>\n",
       "      <th></th>\n",
       "      <th></th>\n",
       "      <th></th>\n",
       "      <th></th>\n",
       "      <th></th>\n",
       "      <th></th>\n",
       "      <th></th>\n",
       "      <th></th>\n",
       "      <th></th>\n",
       "      <th></th>\n",
       "      <th></th>\n",
       "      <th></th>\n",
       "      <th></th>\n",
       "      <th></th>\n",
       "      <th></th>\n",
       "      <th></th>\n",
       "      <th></th>\n",
       "      <th></th>\n",
       "      <th></th>\n",
       "      <th></th>\n",
       "      <th></th>\n",
       "      <th></th>\n",
       "      <th></th>\n",
       "      <th></th>\n",
       "      <th></th>\n",
       "      <th></th>\n",
       "      <th></th>\n",
       "      <th></th>\n",
       "      <th></th>\n",
       "      <th></th>\n",
       "      <th></th>\n",
       "      <th></th>\n",
       "      <th></th>\n",
       "      <th></th>\n",
       "      <th></th>\n",
       "      <th></th>\n",
       "      <th></th>\n",
       "      <th></th>\n",
       "      <th></th>\n",
       "      <th></th>\n",
       "      <th></th>\n",
       "      <th></th>\n",
       "      <th></th>\n",
       "      <th></th>\n",
       "      <th></th>\n",
       "      <th></th>\n",
       "      <th></th>\n",
       "      <th></th>\n",
       "    </tr>\n",
       "  </thead>\n",
       "  <tbody>\n",
       "    <tr>\n",
       "      <th>1</th>\n",
       "      <td>NaN</td>\n",
       "      <td>NaN</td>\n",
       "      <td>NaN</td>\n",
       "      <td>NaN</td>\n",
       "      <td>NaN</td>\n",
       "      <td>NaN</td>\n",
       "      <td>NaN</td>\n",
       "      <td>NaN</td>\n",
       "      <td>NaN</td>\n",
       "      <td>NaN</td>\n",
       "      <td>NaN</td>\n",
       "      <td>NaN</td>\n",
       "      <td>NaN</td>\n",
       "      <td>NaN</td>\n",
       "      <td>NaN</td>\n",
       "      <td>NaN</td>\n",
       "      <td>NaN</td>\n",
       "      <td>NaN</td>\n",
       "      <td>NaN</td>\n",
       "      <td>NaN</td>\n",
       "      <td>NaN</td>\n",
       "      <td>NaN</td>\n",
       "      <td>NaN</td>\n",
       "      <td>NaN</td>\n",
       "      <td>NaN</td>\n",
       "      <td>NaN</td>\n",
       "      <td>NaN</td>\n",
       "      <td>NaN</td>\n",
       "      <td>NaN</td>\n",
       "      <td>NaN</td>\n",
       "      <td>NaN</td>\n",
       "      <td>NaN</td>\n",
       "      <td>NaN</td>\n",
       "      <td>NaN</td>\n",
       "      <td>NaN</td>\n",
       "      <td>NaN</td>\n",
       "      <td>NaN</td>\n",
       "      <td>NaN</td>\n",
       "      <td>NaN</td>\n",
       "      <td>NaN</td>\n",
       "      <td>...</td>\n",
       "      <td>NaN</td>\n",
       "      <td>NaN</td>\n",
       "      <td>NaN</td>\n",
       "      <td>NaN</td>\n",
       "      <td>NaN</td>\n",
       "      <td>NaN</td>\n",
       "      <td>NaN</td>\n",
       "      <td>NaN</td>\n",
       "      <td>NaN</td>\n",
       "      <td>NaN</td>\n",
       "      <td>NaN</td>\n",
       "      <td>NaN</td>\n",
       "      <td>NaN</td>\n",
       "      <td>NaN</td>\n",
       "      <td>NaN</td>\n",
       "      <td>NaN</td>\n",
       "      <td>NaN</td>\n",
       "      <td>NaN</td>\n",
       "      <td>NaN</td>\n",
       "      <td>NaN</td>\n",
       "      <td>NaN</td>\n",
       "      <td>NaN</td>\n",
       "      <td>NaN</td>\n",
       "      <td>NaN</td>\n",
       "      <td>NaN</td>\n",
       "      <td>NaN</td>\n",
       "      <td>NaN</td>\n",
       "      <td>NaN</td>\n",
       "      <td>NaN</td>\n",
       "      <td>NaN</td>\n",
       "      <td>NaN</td>\n",
       "      <td>NaN</td>\n",
       "      <td>NaN</td>\n",
       "      <td>NaN</td>\n",
       "      <td>NaN</td>\n",
       "      <td>NaN</td>\n",
       "      <td>NaN</td>\n",
       "      <td>NaN</td>\n",
       "      <td>NaN</td>\n",
       "      <td>NaN</td>\n",
       "    </tr>\n",
       "    <tr>\n",
       "      <th>2</th>\n",
       "      <td>NaN</td>\n",
       "      <td>NaN</td>\n",
       "      <td>NaN</td>\n",
       "      <td>NaN</td>\n",
       "      <td>NaN</td>\n",
       "      <td>NaN</td>\n",
       "      <td>NaN</td>\n",
       "      <td>NaN</td>\n",
       "      <td>NaN</td>\n",
       "      <td>NaN</td>\n",
       "      <td>NaN</td>\n",
       "      <td>NaN</td>\n",
       "      <td>NaN</td>\n",
       "      <td>NaN</td>\n",
       "      <td>NaN</td>\n",
       "      <td>NaN</td>\n",
       "      <td>NaN</td>\n",
       "      <td>NaN</td>\n",
       "      <td>NaN</td>\n",
       "      <td>NaN</td>\n",
       "      <td>NaN</td>\n",
       "      <td>NaN</td>\n",
       "      <td>NaN</td>\n",
       "      <td>NaN</td>\n",
       "      <td>NaN</td>\n",
       "      <td>NaN</td>\n",
       "      <td>NaN</td>\n",
       "      <td>NaN</td>\n",
       "      <td>NaN</td>\n",
       "      <td>NaN</td>\n",
       "      <td>NaN</td>\n",
       "      <td>NaN</td>\n",
       "      <td>NaN</td>\n",
       "      <td>NaN</td>\n",
       "      <td>NaN</td>\n",
       "      <td>NaN</td>\n",
       "      <td>NaN</td>\n",
       "      <td>NaN</td>\n",
       "      <td>NaN</td>\n",
       "      <td>NaN</td>\n",
       "      <td>...</td>\n",
       "      <td>NaN</td>\n",
       "      <td>NaN</td>\n",
       "      <td>NaN</td>\n",
       "      <td>NaN</td>\n",
       "      <td>NaN</td>\n",
       "      <td>NaN</td>\n",
       "      <td>NaN</td>\n",
       "      <td>NaN</td>\n",
       "      <td>NaN</td>\n",
       "      <td>NaN</td>\n",
       "      <td>NaN</td>\n",
       "      <td>NaN</td>\n",
       "      <td>NaN</td>\n",
       "      <td>NaN</td>\n",
       "      <td>NaN</td>\n",
       "      <td>NaN</td>\n",
       "      <td>NaN</td>\n",
       "      <td>NaN</td>\n",
       "      <td>NaN</td>\n",
       "      <td>NaN</td>\n",
       "      <td>NaN</td>\n",
       "      <td>NaN</td>\n",
       "      <td>NaN</td>\n",
       "      <td>NaN</td>\n",
       "      <td>NaN</td>\n",
       "      <td>NaN</td>\n",
       "      <td>NaN</td>\n",
       "      <td>NaN</td>\n",
       "      <td>NaN</td>\n",
       "      <td>NaN</td>\n",
       "      <td>NaN</td>\n",
       "      <td>NaN</td>\n",
       "      <td>NaN</td>\n",
       "      <td>NaN</td>\n",
       "      <td>NaN</td>\n",
       "      <td>NaN</td>\n",
       "      <td>NaN</td>\n",
       "      <td>NaN</td>\n",
       "      <td>NaN</td>\n",
       "      <td>NaN</td>\n",
       "    </tr>\n",
       "    <tr>\n",
       "      <th>4</th>\n",
       "      <td>NaN</td>\n",
       "      <td>NaN</td>\n",
       "      <td>NaN</td>\n",
       "      <td>NaN</td>\n",
       "      <td>NaN</td>\n",
       "      <td>NaN</td>\n",
       "      <td>NaN</td>\n",
       "      <td>NaN</td>\n",
       "      <td>NaN</td>\n",
       "      <td>NaN</td>\n",
       "      <td>NaN</td>\n",
       "      <td>NaN</td>\n",
       "      <td>NaN</td>\n",
       "      <td>NaN</td>\n",
       "      <td>NaN</td>\n",
       "      <td>NaN</td>\n",
       "      <td>NaN</td>\n",
       "      <td>NaN</td>\n",
       "      <td>NaN</td>\n",
       "      <td>NaN</td>\n",
       "      <td>NaN</td>\n",
       "      <td>NaN</td>\n",
       "      <td>NaN</td>\n",
       "      <td>NaN</td>\n",
       "      <td>NaN</td>\n",
       "      <td>NaN</td>\n",
       "      <td>NaN</td>\n",
       "      <td>NaN</td>\n",
       "      <td>NaN</td>\n",
       "      <td>NaN</td>\n",
       "      <td>NaN</td>\n",
       "      <td>NaN</td>\n",
       "      <td>NaN</td>\n",
       "      <td>NaN</td>\n",
       "      <td>NaN</td>\n",
       "      <td>NaN</td>\n",
       "      <td>NaN</td>\n",
       "      <td>NaN</td>\n",
       "      <td>NaN</td>\n",
       "      <td>NaN</td>\n",
       "      <td>...</td>\n",
       "      <td>NaN</td>\n",
       "      <td>NaN</td>\n",
       "      <td>NaN</td>\n",
       "      <td>NaN</td>\n",
       "      <td>NaN</td>\n",
       "      <td>NaN</td>\n",
       "      <td>NaN</td>\n",
       "      <td>NaN</td>\n",
       "      <td>NaN</td>\n",
       "      <td>NaN</td>\n",
       "      <td>NaN</td>\n",
       "      <td>NaN</td>\n",
       "      <td>NaN</td>\n",
       "      <td>NaN</td>\n",
       "      <td>NaN</td>\n",
       "      <td>NaN</td>\n",
       "      <td>NaN</td>\n",
       "      <td>NaN</td>\n",
       "      <td>NaN</td>\n",
       "      <td>NaN</td>\n",
       "      <td>NaN</td>\n",
       "      <td>NaN</td>\n",
       "      <td>NaN</td>\n",
       "      <td>NaN</td>\n",
       "      <td>NaN</td>\n",
       "      <td>NaN</td>\n",
       "      <td>NaN</td>\n",
       "      <td>NaN</td>\n",
       "      <td>NaN</td>\n",
       "      <td>NaN</td>\n",
       "      <td>NaN</td>\n",
       "      <td>NaN</td>\n",
       "      <td>NaN</td>\n",
       "      <td>NaN</td>\n",
       "      <td>NaN</td>\n",
       "      <td>NaN</td>\n",
       "      <td>NaN</td>\n",
       "      <td>NaN</td>\n",
       "      <td>NaN</td>\n",
       "      <td>NaN</td>\n",
       "    </tr>\n",
       "    <tr>\n",
       "      <th>5</th>\n",
       "      <td>NaN</td>\n",
       "      <td>NaN</td>\n",
       "      <td>NaN</td>\n",
       "      <td>NaN</td>\n",
       "      <td>NaN</td>\n",
       "      <td>NaN</td>\n",
       "      <td>NaN</td>\n",
       "      <td>NaN</td>\n",
       "      <td>NaN</td>\n",
       "      <td>NaN</td>\n",
       "      <td>NaN</td>\n",
       "      <td>NaN</td>\n",
       "      <td>NaN</td>\n",
       "      <td>NaN</td>\n",
       "      <td>NaN</td>\n",
       "      <td>NaN</td>\n",
       "      <td>NaN</td>\n",
       "      <td>NaN</td>\n",
       "      <td>NaN</td>\n",
       "      <td>NaN</td>\n",
       "      <td>NaN</td>\n",
       "      <td>NaN</td>\n",
       "      <td>NaN</td>\n",
       "      <td>NaN</td>\n",
       "      <td>NaN</td>\n",
       "      <td>NaN</td>\n",
       "      <td>NaN</td>\n",
       "      <td>NaN</td>\n",
       "      <td>NaN</td>\n",
       "      <td>NaN</td>\n",
       "      <td>NaN</td>\n",
       "      <td>NaN</td>\n",
       "      <td>NaN</td>\n",
       "      <td>NaN</td>\n",
       "      <td>NaN</td>\n",
       "      <td>NaN</td>\n",
       "      <td>NaN</td>\n",
       "      <td>NaN</td>\n",
       "      <td>NaN</td>\n",
       "      <td>NaN</td>\n",
       "      <td>...</td>\n",
       "      <td>NaN</td>\n",
       "      <td>NaN</td>\n",
       "      <td>NaN</td>\n",
       "      <td>NaN</td>\n",
       "      <td>NaN</td>\n",
       "      <td>NaN</td>\n",
       "      <td>NaN</td>\n",
       "      <td>NaN</td>\n",
       "      <td>NaN</td>\n",
       "      <td>NaN</td>\n",
       "      <td>NaN</td>\n",
       "      <td>NaN</td>\n",
       "      <td>NaN</td>\n",
       "      <td>NaN</td>\n",
       "      <td>NaN</td>\n",
       "      <td>NaN</td>\n",
       "      <td>NaN</td>\n",
       "      <td>NaN</td>\n",
       "      <td>NaN</td>\n",
       "      <td>NaN</td>\n",
       "      <td>NaN</td>\n",
       "      <td>NaN</td>\n",
       "      <td>NaN</td>\n",
       "      <td>NaN</td>\n",
       "      <td>NaN</td>\n",
       "      <td>NaN</td>\n",
       "      <td>NaN</td>\n",
       "      <td>NaN</td>\n",
       "      <td>NaN</td>\n",
       "      <td>NaN</td>\n",
       "      <td>NaN</td>\n",
       "      <td>NaN</td>\n",
       "      <td>NaN</td>\n",
       "      <td>NaN</td>\n",
       "      <td>NaN</td>\n",
       "      <td>NaN</td>\n",
       "      <td>NaN</td>\n",
       "      <td>NaN</td>\n",
       "      <td>NaN</td>\n",
       "      <td>NaN</td>\n",
       "    </tr>\n",
       "    <tr>\n",
       "      <th>7</th>\n",
       "      <td>NaN</td>\n",
       "      <td>NaN</td>\n",
       "      <td>NaN</td>\n",
       "      <td>NaN</td>\n",
       "      <td>NaN</td>\n",
       "      <td>NaN</td>\n",
       "      <td>NaN</td>\n",
       "      <td>NaN</td>\n",
       "      <td>NaN</td>\n",
       "      <td>NaN</td>\n",
       "      <td>NaN</td>\n",
       "      <td>NaN</td>\n",
       "      <td>NaN</td>\n",
       "      <td>NaN</td>\n",
       "      <td>NaN</td>\n",
       "      <td>NaN</td>\n",
       "      <td>NaN</td>\n",
       "      <td>NaN</td>\n",
       "      <td>NaN</td>\n",
       "      <td>NaN</td>\n",
       "      <td>NaN</td>\n",
       "      <td>NaN</td>\n",
       "      <td>NaN</td>\n",
       "      <td>NaN</td>\n",
       "      <td>NaN</td>\n",
       "      <td>NaN</td>\n",
       "      <td>NaN</td>\n",
       "      <td>NaN</td>\n",
       "      <td>NaN</td>\n",
       "      <td>NaN</td>\n",
       "      <td>NaN</td>\n",
       "      <td>NaN</td>\n",
       "      <td>NaN</td>\n",
       "      <td>NaN</td>\n",
       "      <td>NaN</td>\n",
       "      <td>NaN</td>\n",
       "      <td>NaN</td>\n",
       "      <td>NaN</td>\n",
       "      <td>NaN</td>\n",
       "      <td>NaN</td>\n",
       "      <td>...</td>\n",
       "      <td>NaN</td>\n",
       "      <td>NaN</td>\n",
       "      <td>NaN</td>\n",
       "      <td>NaN</td>\n",
       "      <td>NaN</td>\n",
       "      <td>NaN</td>\n",
       "      <td>NaN</td>\n",
       "      <td>NaN</td>\n",
       "      <td>NaN</td>\n",
       "      <td>NaN</td>\n",
       "      <td>NaN</td>\n",
       "      <td>NaN</td>\n",
       "      <td>NaN</td>\n",
       "      <td>NaN</td>\n",
       "      <td>NaN</td>\n",
       "      <td>NaN</td>\n",
       "      <td>NaN</td>\n",
       "      <td>NaN</td>\n",
       "      <td>NaN</td>\n",
       "      <td>NaN</td>\n",
       "      <td>NaN</td>\n",
       "      <td>NaN</td>\n",
       "      <td>NaN</td>\n",
       "      <td>NaN</td>\n",
       "      <td>NaN</td>\n",
       "      <td>NaN</td>\n",
       "      <td>NaN</td>\n",
       "      <td>NaN</td>\n",
       "      <td>NaN</td>\n",
       "      <td>NaN</td>\n",
       "      <td>NaN</td>\n",
       "      <td>NaN</td>\n",
       "      <td>NaN</td>\n",
       "      <td>NaN</td>\n",
       "      <td>NaN</td>\n",
       "      <td>NaN</td>\n",
       "      <td>NaN</td>\n",
       "      <td>NaN</td>\n",
       "      <td>NaN</td>\n",
       "      <td>NaN</td>\n",
       "    </tr>\n",
       "  </tbody>\n",
       "</table>\n",
       "<p>5 rows × 9964 columns</p>\n",
       "</div>"
      ],
      "text/plain": [
       "title     Angels (Walsh Family, #3)  ...  美少女戦士セーラームーン新装版 1 [Bishōjo Senshi Sailor Moon Shinsōban 1]\n",
       "user_id                              ...                                                            \n",
       "1                               NaN  ...                                                NaN         \n",
       "2                               NaN  ...                                                NaN         \n",
       "4                               NaN  ...                                                NaN         \n",
       "5                               NaN  ...                                                NaN         \n",
       "7                               NaN  ...                                                NaN         \n",
       "\n",
       "[5 rows x 9964 columns]"
      ]
     },
     "execution_count": 8,
     "metadata": {
      "tags": []
     },
     "output_type": "execute_result"
    }
   ],
   "source": [
    "# bookmat = new_ratings.groupby(['user_id', 'title'])['rating'].mean().unstack()\n",
    "bookmat = new_ratings.pivot_table(index='user_id', columns='title', values='rating')\n",
    "bookmat.head()"
   ]
  },
  {
   "cell_type": "code",
   "execution_count": 0,
   "metadata": {
    "colab": {},
    "colab_type": "code",
    "id": "pJLBhd0RqrHY"
   },
   "outputs": [],
   "source": [
    "def get_similar(title, mat):\n",
    "    title_user_ratings = mat[title]\n",
    "    similar_to_title = mat.corrwith(title_user_ratings)\n",
    "    corr_title = pd.DataFrame(similar_to_title, columns=['correlation'])\n",
    "    corr_title.dropna(inplace=True)\n",
    "    corr_title.sort_values('correlation', ascending=False, inplace=True)\n",
    "    return corr_title"
   ]
  },
  {
   "cell_type": "code",
   "execution_count": 0,
   "metadata": {
    "colab": {},
    "colab_type": "code",
    "id": "zqkD5qIhqrEj"
   },
   "outputs": [],
   "source": [
    "title = \"Twilight (Twilight, #1)\"\n",
    "smlr = get_similar(title, bookmat)"
   ]
  },
  {
   "cell_type": "code",
   "execution_count": 11,
   "metadata": {
    "colab": {
     "base_uri": "https://localhost:8080/",
     "height": 395
    },
    "colab_type": "code",
    "id": "bmqoYLEXqrBs",
    "outputId": "79f3b1dd-091e-48dd-efec-50e66c2d654e"
   },
   "outputs": [
    {
     "data": {
      "text/html": [
       "<div>\n",
       "<style scoped>\n",
       "    .dataframe tbody tr th:only-of-type {\n",
       "        vertical-align: middle;\n",
       "    }\n",
       "\n",
       "    .dataframe tbody tr th {\n",
       "        vertical-align: top;\n",
       "    }\n",
       "\n",
       "    .dataframe thead th {\n",
       "        text-align: right;\n",
       "    }\n",
       "</style>\n",
       "<table border=\"1\" class=\"dataframe\">\n",
       "  <thead>\n",
       "    <tr style=\"text-align: right;\">\n",
       "      <th></th>\n",
       "      <th>correlation</th>\n",
       "    </tr>\n",
       "    <tr>\n",
       "      <th>title</th>\n",
       "      <th></th>\n",
       "    </tr>\n",
       "  </thead>\n",
       "  <tbody>\n",
       "    <tr>\n",
       "      <th>god is Not Great: How Religion Poisons Everything</th>\n",
       "      <td>1.0</td>\n",
       "    </tr>\n",
       "    <tr>\n",
       "      <th>The Day of the Triffids</th>\n",
       "      <td>1.0</td>\n",
       "    </tr>\n",
       "    <tr>\n",
       "      <th>Skipping Christmas</th>\n",
       "      <td>1.0</td>\n",
       "    </tr>\n",
       "    <tr>\n",
       "      <th>Splintered (Splintered, #1)</th>\n",
       "      <td>1.0</td>\n",
       "    </tr>\n",
       "    <tr>\n",
       "      <th>Better Homes and Gardens New Cook Book</th>\n",
       "      <td>1.0</td>\n",
       "    </tr>\n",
       "    <tr>\n",
       "      <th>Stolen Songbird (The Malediction Trilogy, #1)</th>\n",
       "      <td>1.0</td>\n",
       "    </tr>\n",
       "    <tr>\n",
       "      <th>Bared to You (Crossfire, #1)</th>\n",
       "      <td>1.0</td>\n",
       "    </tr>\n",
       "    <tr>\n",
       "      <th>The Autobiography of Malcolm X</th>\n",
       "      <td>1.0</td>\n",
       "    </tr>\n",
       "    <tr>\n",
       "      <th>Balzac and the Little Chinese Seamstress</th>\n",
       "      <td>1.0</td>\n",
       "    </tr>\n",
       "    <tr>\n",
       "      <th>Bad Feminist</th>\n",
       "      <td>1.0</td>\n",
       "    </tr>\n",
       "  </tbody>\n",
       "</table>\n",
       "</div>"
      ],
      "text/plain": [
       "                                                   correlation\n",
       "title                                                         \n",
       "god is Not Great: How Religion Poisons Everything          1.0\n",
       "The Day of the Triffids                                    1.0\n",
       "Skipping Christmas                                         1.0\n",
       "Splintered (Splintered, #1)                                1.0\n",
       "Better Homes and Gardens New Cook Book                     1.0\n",
       "Stolen Songbird (The Malediction Trilogy, #1)              1.0\n",
       "Bared to You (Crossfire, #1)                               1.0\n",
       "The Autobiography of Malcolm X                             1.0\n",
       "Balzac and the Little Chinese Seamstress                   1.0\n",
       "Bad Feminist                                               1.0"
      ]
     },
     "execution_count": 11,
     "metadata": {
      "tags": []
     },
     "output_type": "execute_result"
    }
   ],
   "source": [
    "smlr.head(10)"
   ]
  },
  {
   "cell_type": "markdown",
   "metadata": {
    "colab_type": "text",
    "id": "7AKRiItn5h3C"
   },
   "source": [
    "Ok, we got similar books, but we need to filter them by their *ratings_count*."
   ]
  },
  {
   "cell_type": "code",
   "execution_count": 12,
   "metadata": {
    "colab": {
     "base_uri": "https://localhost:8080/",
     "height": 238
    },
    "colab_type": "code",
    "id": "LpANWjjTqq_h",
    "outputId": "7788cfc9-361f-408b-84f0-6409c7941790"
   },
   "outputs": [
    {
     "data": {
      "text/html": [
       "<div>\n",
       "<style scoped>\n",
       "    .dataframe tbody tr th:only-of-type {\n",
       "        vertical-align: middle;\n",
       "    }\n",
       "\n",
       "    .dataframe tbody tr th {\n",
       "        vertical-align: top;\n",
       "    }\n",
       "\n",
       "    .dataframe thead th {\n",
       "        text-align: right;\n",
       "    }\n",
       "</style>\n",
       "<table border=\"1\" class=\"dataframe\">\n",
       "  <thead>\n",
       "    <tr style=\"text-align: right;\">\n",
       "      <th></th>\n",
       "      <th>correlation</th>\n",
       "      <th>ratings_count</th>\n",
       "    </tr>\n",
       "    <tr>\n",
       "      <th>title</th>\n",
       "      <th></th>\n",
       "      <th></th>\n",
       "    </tr>\n",
       "  </thead>\n",
       "  <tbody>\n",
       "    <tr>\n",
       "      <th>'Salem's Lot</th>\n",
       "      <td>0.275938</td>\n",
       "      <td>228680</td>\n",
       "    </tr>\n",
       "    <tr>\n",
       "      <th>'Salem's Lot</th>\n",
       "      <td>0.275938</td>\n",
       "      <td>72797</td>\n",
       "    </tr>\n",
       "    <tr>\n",
       "      <th>11/22/63</th>\n",
       "      <td>0.431331</td>\n",
       "      <td>258464</td>\n",
       "    </tr>\n",
       "    <tr>\n",
       "      <th>13 Little Blue Envelopes (Little Blue Envelope, #1)</th>\n",
       "      <td>-0.500000</td>\n",
       "      <td>66950</td>\n",
       "    </tr>\n",
       "    <tr>\n",
       "      <th>1776</th>\n",
       "      <td>0.301511</td>\n",
       "      <td>130293</td>\n",
       "    </tr>\n",
       "  </tbody>\n",
       "</table>\n",
       "</div>"
      ],
      "text/plain": [
       "                                                    correlation  ratings_count\n",
       "title                                                                         \n",
       "'Salem's Lot                                           0.275938         228680\n",
       "'Salem's Lot                                           0.275938          72797\n",
       "11/22/63                                               0.431331         258464\n",
       "13 Little Blue Envelopes (Little Blue Envelope,...    -0.500000          66950\n",
       "1776                                                   0.301511         130293"
      ]
     },
     "execution_count": 12,
     "metadata": {
      "tags": []
     },
     "output_type": "execute_result"
    }
   ],
   "source": [
    "smlr = smlr.join(books.set_index('title')['ratings_count'])\n",
    "smlr.head()"
   ]
  },
  {
   "cell_type": "markdown",
   "metadata": {
    "colab_type": "text",
    "id": "ljfH1fu25yoN"
   },
   "source": [
    "Get similar books with at least 500k ratings."
   ]
  },
  {
   "cell_type": "code",
   "execution_count": 15,
   "metadata": {
    "colab": {
     "base_uri": "https://localhost:8080/",
     "height": 395
    },
    "colab_type": "code",
    "id": "wDQNFn-Xqq9c",
    "outputId": "04392a8b-d9ee-44e6-c6c9-630cb75e82d5"
   },
   "outputs": [
    {
     "data": {
      "text/html": [
       "<div>\n",
       "<style scoped>\n",
       "    .dataframe tbody tr th:only-of-type {\n",
       "        vertical-align: middle;\n",
       "    }\n",
       "\n",
       "    .dataframe tbody tr th {\n",
       "        vertical-align: top;\n",
       "    }\n",
       "\n",
       "    .dataframe thead th {\n",
       "        text-align: right;\n",
       "    }\n",
       "</style>\n",
       "<table border=\"1\" class=\"dataframe\">\n",
       "  <thead>\n",
       "    <tr style=\"text-align: right;\">\n",
       "      <th></th>\n",
       "      <th>correlation</th>\n",
       "      <th>ratings_count</th>\n",
       "    </tr>\n",
       "    <tr>\n",
       "      <th>title</th>\n",
       "      <th></th>\n",
       "      <th></th>\n",
       "    </tr>\n",
       "  </thead>\n",
       "  <tbody>\n",
       "    <tr>\n",
       "      <th>Twilight (Twilight, #1)</th>\n",
       "      <td>1.000000</td>\n",
       "      <td>3866839</td>\n",
       "    </tr>\n",
       "    <tr>\n",
       "      <th>New Moon (Twilight, #2)</th>\n",
       "      <td>0.885400</td>\n",
       "      <td>1149630</td>\n",
       "    </tr>\n",
       "    <tr>\n",
       "      <th>The Selection (The Selection, #1)</th>\n",
       "      <td>0.866025</td>\n",
       "      <td>505340</td>\n",
       "    </tr>\n",
       "    <tr>\n",
       "      <th>Eclipse (Twilight, #3)</th>\n",
       "      <td>0.857845</td>\n",
       "      <td>1134511</td>\n",
       "    </tr>\n",
       "    <tr>\n",
       "      <th>Me Before You (Me Before You, #1)</th>\n",
       "      <td>0.771845</td>\n",
       "      <td>587647</td>\n",
       "    </tr>\n",
       "    <tr>\n",
       "      <th>Matched (Matched, #1)</th>\n",
       "      <td>0.707029</td>\n",
       "      <td>511815</td>\n",
       "    </tr>\n",
       "    <tr>\n",
       "      <th>Breaking Dawn (Twilight, #4)</th>\n",
       "      <td>0.689029</td>\n",
       "      <td>1070245</td>\n",
       "    </tr>\n",
       "    <tr>\n",
       "      <th>Bossypants</th>\n",
       "      <td>0.669954</td>\n",
       "      <td>506250</td>\n",
       "    </tr>\n",
       "    <tr>\n",
       "      <th>City of Bones (The Mortal Instruments, #1)</th>\n",
       "      <td>0.654081</td>\n",
       "      <td>1154031</td>\n",
       "    </tr>\n",
       "    <tr>\n",
       "      <th>The Perks of Being a Wallflower</th>\n",
       "      <td>0.574701</td>\n",
       "      <td>888806</td>\n",
       "    </tr>\n",
       "  </tbody>\n",
       "</table>\n",
       "</div>"
      ],
      "text/plain": [
       "                                            correlation  ratings_count\n",
       "title                                                                 \n",
       "Twilight (Twilight, #1)                        1.000000        3866839\n",
       "New Moon (Twilight, #2)                        0.885400        1149630\n",
       "The Selection (The Selection, #1)              0.866025         505340\n",
       "Eclipse (Twilight, #3)                         0.857845        1134511\n",
       "Me Before You (Me Before You, #1)              0.771845         587647\n",
       "Matched (Matched, #1)                          0.707029         511815\n",
       "Breaking Dawn (Twilight, #4)                   0.689029        1070245\n",
       "Bossypants                                     0.669954         506250\n",
       "City of Bones (The Mortal Instruments, #1)     0.654081        1154031\n",
       "The Perks of Being a Wallflower                0.574701         888806"
      ]
     },
     "execution_count": 15,
     "metadata": {
      "tags": []
     },
     "output_type": "execute_result"
    }
   ],
   "source": [
    "smlr[smlr.ratings_count > 5e5].sort_values('correlation', ascending=False).head(10)"
   ]
  },
  {
   "cell_type": "markdown",
   "metadata": {
    "colab_type": "text",
    "id": "os4RFln658x-"
   },
   "source": [
    "That's more interesting and reasonable result, since we could get *Twilight* book series in our top results. "
   ]
  },
  {
   "cell_type": "markdown",
   "metadata": {
    "colab_type": "text",
    "id": "_fuHX0Nmf8Eo"
   },
   "source": [
    "# Hybrid Recommender <a id=\"12\"></a> <br>\n",
    "\n",
    "![](https://www.toonpool.com/user/250/files/hybrid_20095.jpg)\n",
    "\n",
    "In this section, I will try to build a simple hybrid recommender that brings together techniques we have implemented in the content based and collaborative filter based engines. This is how it will work:\n",
    "\n",
    "* **Input:** User ID and the Title of a Book\n",
    "* **Output:** Similar books sorted on the basis of expected ratings by that particular user."
   ]
  },
  {
   "cell_type": "code",
   "execution_count": 0,
   "metadata": {
    "colab": {},
    "colab_type": "code",
    "id": "NjgQ2GT5f7-k"
   },
   "outputs": [],
   "source": [
    "def hybrid(user_id, title, n=10):\n",
    "    idx = indices[title]\n",
    "    sim_scores = list(enumerate(cosine_sim[idx]))\n",
    "    sim_scores = sorted(sim_scores, key=lambda x: x[1], reverse=True)\n",
    "    sim_scores = sim_scores[1:51]\n",
    "    book_indices = [i[0] for i in sim_scores]\n",
    "    \n",
    "    df = books.iloc[book_indices][['book_id', 'title', 'original_publication_year', 'ratings_count', 'average_rating']]\n",
    "    df['est'] = df['book_id'].apply(lambda x: svd.predict(user_id, x).est)\n",
    "    df = df.sort_values('est', ascending=False)\n",
    "    return df.head(n)"
   ]
  },
  {
   "cell_type": "code",
   "execution_count": 54,
   "metadata": {
    "colab": {
     "base_uri": "https://localhost:8080/",
     "height": 363
    },
    "colab_type": "code",
    "id": "bbUfErM1djyj",
    "outputId": "5ebd7179-3cf0-465b-ea13-138ccf87560f"
   },
   "outputs": [
    {
     "data": {
      "text/html": [
       "<div>\n",
       "<style scoped>\n",
       "    .dataframe tbody tr th:only-of-type {\n",
       "        vertical-align: middle;\n",
       "    }\n",
       "\n",
       "    .dataframe tbody tr th {\n",
       "        vertical-align: top;\n",
       "    }\n",
       "\n",
       "    .dataframe thead th {\n",
       "        text-align: right;\n",
       "    }\n",
       "</style>\n",
       "<table border=\"1\" class=\"dataframe\">\n",
       "  <thead>\n",
       "    <tr style=\"text-align: right;\">\n",
       "      <th></th>\n",
       "      <th>book_id</th>\n",
       "      <th>title</th>\n",
       "      <th>original_publication_year</th>\n",
       "      <th>ratings_count</th>\n",
       "      <th>average_rating</th>\n",
       "      <th>est</th>\n",
       "    </tr>\n",
       "  </thead>\n",
       "  <tbody>\n",
       "    <tr>\n",
       "      <th>4690</th>\n",
       "      <td>1624</td>\n",
       "      <td>West with the Night</td>\n",
       "      <td>1942</td>\n",
       "      <td>19738</td>\n",
       "      <td>4.18</td>\n",
       "      <td>4.056225</td>\n",
       "    </tr>\n",
       "    <tr>\n",
       "      <th>3118</th>\n",
       "      <td>3465</td>\n",
       "      <td>Three Weeks With My Brother</td>\n",
       "      <td>2004</td>\n",
       "      <td>32208</td>\n",
       "      <td>4.01</td>\n",
       "      <td>3.979230</td>\n",
       "    </tr>\n",
       "    <tr>\n",
       "      <th>80</th>\n",
       "      <td>7445</td>\n",
       "      <td>The Glass Castle</td>\n",
       "      <td>2005</td>\n",
       "      <td>621099</td>\n",
       "      <td>4.24</td>\n",
       "      <td>3.908015</td>\n",
       "    </tr>\n",
       "    <tr>\n",
       "      <th>4038</th>\n",
       "      <td>6365221</td>\n",
       "      <td>Mennonite in a Little Black Dress: A Memoir of...</td>\n",
       "      <td>2009</td>\n",
       "      <td>23096</td>\n",
       "      <td>3.17</td>\n",
       "      <td>3.882907</td>\n",
       "    </tr>\n",
       "    <tr>\n",
       "      <th>604</th>\n",
       "      <td>40173</td>\n",
       "      <td>Are You There, Vodka? It's Me, Chelsea</td>\n",
       "      <td>2007</td>\n",
       "      <td>127096</td>\n",
       "      <td>3.85</td>\n",
       "      <td>3.882907</td>\n",
       "    </tr>\n",
       "    <tr>\n",
       "      <th>744</th>\n",
       "      <td>12868761</td>\n",
       "      <td>Let's Pretend This Never Happened: A Mostly Tr...</td>\n",
       "      <td>2012</td>\n",
       "      <td>118475</td>\n",
       "      <td>3.90</td>\n",
       "      <td>3.882907</td>\n",
       "    </tr>\n",
       "    <tr>\n",
       "      <th>4724</th>\n",
       "      <td>13642929</td>\n",
       "      <td>My Beloved World</td>\n",
       "      <td>2013</td>\n",
       "      <td>17742</td>\n",
       "      <td>4.03</td>\n",
       "      <td>3.882907</td>\n",
       "    </tr>\n",
       "    <tr>\n",
       "      <th>5702</th>\n",
       "      <td>316558</td>\n",
       "      <td>Kabul Beauty School: An American Woman Goes Be...</td>\n",
       "      <td>2007</td>\n",
       "      <td>17002</td>\n",
       "      <td>3.63</td>\n",
       "      <td>3.882907</td>\n",
       "    </tr>\n",
       "    <tr>\n",
       "      <th>2803</th>\n",
       "      <td>18039963</td>\n",
       "      <td>A House in the Sky</td>\n",
       "      <td>2013</td>\n",
       "      <td>29369</td>\n",
       "      <td>4.20</td>\n",
       "      <td>3.882907</td>\n",
       "    </tr>\n",
       "    <tr>\n",
       "      <th>2701</th>\n",
       "      <td>6114607</td>\n",
       "      <td>The Midwife: A Memoir of Birth, Joy, and Hard ...</td>\n",
       "      <td>2002</td>\n",
       "      <td>19176</td>\n",
       "      <td>4.17</td>\n",
       "      <td>3.882907</td>\n",
       "    </tr>\n",
       "  </tbody>\n",
       "</table>\n",
       "</div>"
      ],
      "text/plain": [
       "       book_id  ...       est\n",
       "4690      1624  ...  4.056225\n",
       "3118      3465  ...  3.979230\n",
       "80        7445  ...  3.908015\n",
       "4038   6365221  ...  3.882907\n",
       "604      40173  ...  3.882907\n",
       "744   12868761  ...  3.882907\n",
       "4724  13642929  ...  3.882907\n",
       "5702    316558  ...  3.882907\n",
       "2803  18039963  ...  3.882907\n",
       "2701   6114607  ...  3.882907\n",
       "\n",
       "[10 rows x 6 columns]"
      ]
     },
     "execution_count": 54,
     "metadata": {
      "tags": []
     },
     "output_type": "execute_result"
    }
   ],
   "source": [
    "hybrid(4, 'Eat, Pray, Love')"
   ]
  },
  {
   "cell_type": "code",
   "execution_count": 55,
   "metadata": {
    "colab": {
     "base_uri": "https://localhost:8080/",
     "height": 363
    },
    "colab_type": "code",
    "id": "Luxsj3RoMTNr",
    "outputId": "5507de77-781b-4cdc-f2db-aa87282a28b3"
   },
   "outputs": [
    {
     "data": {
      "text/html": [
       "<div>\n",
       "<style scoped>\n",
       "    .dataframe tbody tr th:only-of-type {\n",
       "        vertical-align: middle;\n",
       "    }\n",
       "\n",
       "    .dataframe tbody tr th {\n",
       "        vertical-align: top;\n",
       "    }\n",
       "\n",
       "    .dataframe thead th {\n",
       "        text-align: right;\n",
       "    }\n",
       "</style>\n",
       "<table border=\"1\" class=\"dataframe\">\n",
       "  <thead>\n",
       "    <tr style=\"text-align: right;\">\n",
       "      <th></th>\n",
       "      <th>book_id</th>\n",
       "      <th>title</th>\n",
       "      <th>original_publication_year</th>\n",
       "      <th>ratings_count</th>\n",
       "      <th>average_rating</th>\n",
       "      <th>est</th>\n",
       "    </tr>\n",
       "  </thead>\n",
       "  <tbody>\n",
       "    <tr>\n",
       "      <th>80</th>\n",
       "      <td>7445</td>\n",
       "      <td>The Glass Castle</td>\n",
       "      <td>2005</td>\n",
       "      <td>621099</td>\n",
       "      <td>4.24</td>\n",
       "      <td>4.060319</td>\n",
       "    </tr>\n",
       "    <tr>\n",
       "      <th>4038</th>\n",
       "      <td>6365221</td>\n",
       "      <td>Mennonite in a Little Black Dress: A Memoir of...</td>\n",
       "      <td>2009</td>\n",
       "      <td>23096</td>\n",
       "      <td>3.17</td>\n",
       "      <td>3.862135</td>\n",
       "    </tr>\n",
       "    <tr>\n",
       "      <th>604</th>\n",
       "      <td>40173</td>\n",
       "      <td>Are You There, Vodka? It's Me, Chelsea</td>\n",
       "      <td>2007</td>\n",
       "      <td>127096</td>\n",
       "      <td>3.85</td>\n",
       "      <td>3.862135</td>\n",
       "    </tr>\n",
       "    <tr>\n",
       "      <th>3984</th>\n",
       "      <td>46190</td>\n",
       "      <td>Love Is a Mix Tape</td>\n",
       "      <td>2007</td>\n",
       "      <td>21971</td>\n",
       "      <td>3.83</td>\n",
       "      <td>3.862135</td>\n",
       "    </tr>\n",
       "    <tr>\n",
       "      <th>744</th>\n",
       "      <td>12868761</td>\n",
       "      <td>Let's Pretend This Never Happened: A Mostly Tr...</td>\n",
       "      <td>2012</td>\n",
       "      <td>118475</td>\n",
       "      <td>3.90</td>\n",
       "      <td>3.862135</td>\n",
       "    </tr>\n",
       "    <tr>\n",
       "      <th>4724</th>\n",
       "      <td>13642929</td>\n",
       "      <td>My Beloved World</td>\n",
       "      <td>2013</td>\n",
       "      <td>17742</td>\n",
       "      <td>4.03</td>\n",
       "      <td>3.862135</td>\n",
       "    </tr>\n",
       "    <tr>\n",
       "      <th>5702</th>\n",
       "      <td>316558</td>\n",
       "      <td>Kabul Beauty School: An American Woman Goes Be...</td>\n",
       "      <td>2007</td>\n",
       "      <td>17002</td>\n",
       "      <td>3.63</td>\n",
       "      <td>3.862135</td>\n",
       "    </tr>\n",
       "    <tr>\n",
       "      <th>2803</th>\n",
       "      <td>18039963</td>\n",
       "      <td>A House in the Sky</td>\n",
       "      <td>2013</td>\n",
       "      <td>29369</td>\n",
       "      <td>4.20</td>\n",
       "      <td>3.862135</td>\n",
       "    </tr>\n",
       "    <tr>\n",
       "      <th>2701</th>\n",
       "      <td>6114607</td>\n",
       "      <td>The Midwife: A Memoir of Birth, Joy, and Hard ...</td>\n",
       "      <td>2002</td>\n",
       "      <td>19176</td>\n",
       "      <td>4.17</td>\n",
       "      <td>3.862135</td>\n",
       "    </tr>\n",
       "    <tr>\n",
       "      <th>616</th>\n",
       "      <td>6314763</td>\n",
       "      <td>Orange Is the New Black</td>\n",
       "      <td>2010</td>\n",
       "      <td>127186</td>\n",
       "      <td>3.70</td>\n",
       "      <td>3.862135</td>\n",
       "    </tr>\n",
       "  </tbody>\n",
       "</table>\n",
       "</div>"
      ],
      "text/plain": [
       "       book_id  ...       est\n",
       "80        7445  ...  4.060319\n",
       "4038   6365221  ...  3.862135\n",
       "604      40173  ...  3.862135\n",
       "3984     46190  ...  3.862135\n",
       "744   12868761  ...  3.862135\n",
       "4724  13642929  ...  3.862135\n",
       "5702    316558  ...  3.862135\n",
       "2803  18039963  ...  3.862135\n",
       "2701   6114607  ...  3.862135\n",
       "616    6314763  ...  3.862135\n",
       "\n",
       "[10 rows x 6 columns]"
      ]
     },
     "execution_count": 55,
     "metadata": {
      "tags": []
     },
     "output_type": "execute_result"
    }
   ],
   "source": [
    "hybrid(10, 'Eat, Pray, Love')"
   ]
  },
  {
   "cell_type": "markdown",
   "metadata": {
    "colab_type": "text",
    "id": "vVB7vWkOe2IC"
   },
   "source": [
    "We see that for our hybrid recommender, we get (almost) different recommendations for different users although the book is the same. But maybe we can make it better through following steps:\n",
    "1. Use our *improved_recommendations* technique , that we used in the **Content Based** seciton above\n",
    "2. Combine it with the user *estimations*, by dividing their summation by 2\n",
    "3. Finally, put the result into a new feature ***score***"
   ]
  },
  {
   "cell_type": "code",
   "execution_count": 0,
   "metadata": {
    "colab": {},
    "colab_type": "code",
    "id": "25vrzC4oLEJe"
   },
   "outputs": [],
   "source": [
    "def improved_hybrid(user_id, title, n=10):\n",
    "    idx = indices[title]\n",
    "    sim_scores = list(enumerate(cosine_sim[idx]))\n",
    "    sim_scores = sorted(sim_scores, key=lambda x: x[1], reverse=True)\n",
    "    sim_scores = sim_scores[1:51]\n",
    "    book_indices = [i[0] for i in sim_scores]\n",
    "    \n",
    "    df = books.iloc[book_indices][['book_id', 'title', 'ratings_count', 'average_rating', 'original_publication_year']]\n",
    "    v = df['ratings_count']\n",
    "    m = df['ratings_count'].quantile(0.60)\n",
    "    R = df['average_rating']\n",
    "    C = df['average_rating'].mean()\n",
    "    df['weighted_rating'] = (R*v + C*m) / (v + m)\n",
    "    \n",
    "    df['est'] = df['book_id'].apply(lambda x: svd.predict(user_id, x).est)\n",
    "    \n",
    "    df['score'] = (df['est'] + df['weighted_rating']) / 2\n",
    "    df = df.sort_values('score', ascending=False)\n",
    "    return df[['book_id', 'title', 'original_publication_year', 'ratings_count', 'average_rating', 'score']].head(n)"
   ]
  },
  {
   "cell_type": "code",
   "execution_count": 62,
   "metadata": {
    "colab": {
     "base_uri": "https://localhost:8080/",
     "height": 363
    },
    "colab_type": "code",
    "id": "vf9fKgE6NaRv",
    "outputId": "0788baa9-8782-4f12-b480-df0770089315"
   },
   "outputs": [
    {
     "data": {
      "text/html": [
       "<div>\n",
       "<style scoped>\n",
       "    .dataframe tbody tr th:only-of-type {\n",
       "        vertical-align: middle;\n",
       "    }\n",
       "\n",
       "    .dataframe tbody tr th {\n",
       "        vertical-align: top;\n",
       "    }\n",
       "\n",
       "    .dataframe thead th {\n",
       "        text-align: right;\n",
       "    }\n",
       "</style>\n",
       "<table border=\"1\" class=\"dataframe\">\n",
       "  <thead>\n",
       "    <tr style=\"text-align: right;\">\n",
       "      <th></th>\n",
       "      <th>book_id</th>\n",
       "      <th>title</th>\n",
       "      <th>original_publication_year</th>\n",
       "      <th>ratings_count</th>\n",
       "      <th>average_rating</th>\n",
       "      <th>score</th>\n",
       "    </tr>\n",
       "  </thead>\n",
       "  <tbody>\n",
       "    <tr>\n",
       "      <th>80</th>\n",
       "      <td>7445</td>\n",
       "      <td>The Glass Castle</td>\n",
       "      <td>2005</td>\n",
       "      <td>621099</td>\n",
       "      <td>4.24</td>\n",
       "      <td>4.063500</td>\n",
       "    </tr>\n",
       "    <tr>\n",
       "      <th>328</th>\n",
       "      <td>2318271</td>\n",
       "      <td>The Last Lecture</td>\n",
       "      <td>2008</td>\n",
       "      <td>241869</td>\n",
       "      <td>4.25</td>\n",
       "      <td>4.041036</td>\n",
       "    </tr>\n",
       "    <tr>\n",
       "      <th>4690</th>\n",
       "      <td>1624</td>\n",
       "      <td>West with the Night</td>\n",
       "      <td>1942</td>\n",
       "      <td>19738</td>\n",
       "      <td>4.18</td>\n",
       "      <td>4.018256</td>\n",
       "    </tr>\n",
       "    <tr>\n",
       "      <th>198</th>\n",
       "      <td>12691</td>\n",
       "      <td>Marley and Me: Life and Love With the World's ...</td>\n",
       "      <td>2005</td>\n",
       "      <td>367304</td>\n",
       "      <td>4.12</td>\n",
       "      <td>3.990017</td>\n",
       "    </tr>\n",
       "    <tr>\n",
       "      <th>1669</th>\n",
       "      <td>104189</td>\n",
       "      <td>Same Kind of Different as Me</td>\n",
       "      <td>2005</td>\n",
       "      <td>52964</td>\n",
       "      <td>4.21</td>\n",
       "      <td>3.976723</td>\n",
       "    </tr>\n",
       "    <tr>\n",
       "      <th>3118</th>\n",
       "      <td>3465</td>\n",
       "      <td>Three Weeks With My Brother</td>\n",
       "      <td>2004</td>\n",
       "      <td>32208</td>\n",
       "      <td>4.01</td>\n",
       "      <td>3.958550</td>\n",
       "    </tr>\n",
       "    <tr>\n",
       "      <th>2803</th>\n",
       "      <td>18039963</td>\n",
       "      <td>A House in the Sky</td>\n",
       "      <td>2013</td>\n",
       "      <td>29369</td>\n",
       "      <td>4.20</td>\n",
       "      <td>3.950186</td>\n",
       "    </tr>\n",
       "    <tr>\n",
       "      <th>753</th>\n",
       "      <td>6366437</td>\n",
       "      <td>Half Broke Horses</td>\n",
       "      <td>2008</td>\n",
       "      <td>110597</td>\n",
       "      <td>4.05</td>\n",
       "      <td>3.944262</td>\n",
       "    </tr>\n",
       "    <tr>\n",
       "      <th>1067</th>\n",
       "      <td>29209</td>\n",
       "      <td>The Color of Water: A Black Man's Tribute to H...</td>\n",
       "      <td>1996</td>\n",
       "      <td>80906</td>\n",
       "      <td>4.06</td>\n",
       "      <td>3.942126</td>\n",
       "    </tr>\n",
       "    <tr>\n",
       "      <th>6286</th>\n",
       "      <td>8564644</td>\n",
       "      <td>Little Princes: One Man's Promise to Bring Hom...</td>\n",
       "      <td>2010</td>\n",
       "      <td>14765</td>\n",
       "      <td>4.25</td>\n",
       "      <td>3.931978</td>\n",
       "    </tr>\n",
       "  </tbody>\n",
       "</table>\n",
       "</div>"
      ],
      "text/plain": [
       "       book_id  ...     score\n",
       "80        7445  ...  4.063500\n",
       "328    2318271  ...  4.041036\n",
       "4690      1624  ...  4.018256\n",
       "198      12691  ...  3.990017\n",
       "1669    104189  ...  3.976723\n",
       "3118      3465  ...  3.958550\n",
       "2803  18039963  ...  3.950186\n",
       "753    6366437  ...  3.944262\n",
       "1067     29209  ...  3.942126\n",
       "6286   8564644  ...  3.931978\n",
       "\n",
       "[10 rows x 6 columns]"
      ]
     },
     "execution_count": 62,
     "metadata": {
      "tags": []
     },
     "output_type": "execute_result"
    }
   ],
   "source": [
    "improved_hybrid(4, 'Eat, Pray, Love')"
   ]
  },
  {
   "cell_type": "code",
   "execution_count": 63,
   "metadata": {
    "colab": {
     "base_uri": "https://localhost:8080/",
     "height": 363
    },
    "colab_type": "code",
    "id": "yAkQSiOaO0qY",
    "outputId": "e0ded663-1898-4664-bd41-7a20458762ca"
   },
   "outputs": [
    {
     "data": {
      "text/html": [
       "<div>\n",
       "<style scoped>\n",
       "    .dataframe tbody tr th:only-of-type {\n",
       "        vertical-align: middle;\n",
       "    }\n",
       "\n",
       "    .dataframe tbody tr th {\n",
       "        vertical-align: top;\n",
       "    }\n",
       "\n",
       "    .dataframe thead th {\n",
       "        text-align: right;\n",
       "    }\n",
       "</style>\n",
       "<table border=\"1\" class=\"dataframe\">\n",
       "  <thead>\n",
       "    <tr style=\"text-align: right;\">\n",
       "      <th></th>\n",
       "      <th>book_id</th>\n",
       "      <th>title</th>\n",
       "      <th>original_publication_year</th>\n",
       "      <th>ratings_count</th>\n",
       "      <th>average_rating</th>\n",
       "      <th>score</th>\n",
       "    </tr>\n",
       "  </thead>\n",
       "  <tbody>\n",
       "    <tr>\n",
       "      <th>80</th>\n",
       "      <td>7445</td>\n",
       "      <td>The Glass Castle</td>\n",
       "      <td>2005</td>\n",
       "      <td>621099</td>\n",
       "      <td>4.24</td>\n",
       "      <td>4.139652</td>\n",
       "    </tr>\n",
       "    <tr>\n",
       "      <th>328</th>\n",
       "      <td>2318271</td>\n",
       "      <td>The Last Lecture</td>\n",
       "      <td>2008</td>\n",
       "      <td>241869</td>\n",
       "      <td>4.25</td>\n",
       "      <td>4.030650</td>\n",
       "    </tr>\n",
       "    <tr>\n",
       "      <th>198</th>\n",
       "      <td>12691</td>\n",
       "      <td>Marley and Me: Life and Love With the World's ...</td>\n",
       "      <td>2005</td>\n",
       "      <td>367304</td>\n",
       "      <td>4.12</td>\n",
       "      <td>3.979631</td>\n",
       "    </tr>\n",
       "    <tr>\n",
       "      <th>1669</th>\n",
       "      <td>104189</td>\n",
       "      <td>Same Kind of Different as Me</td>\n",
       "      <td>2005</td>\n",
       "      <td>52964</td>\n",
       "      <td>4.21</td>\n",
       "      <td>3.966337</td>\n",
       "    </tr>\n",
       "    <tr>\n",
       "      <th>2803</th>\n",
       "      <td>18039963</td>\n",
       "      <td>A House in the Sky</td>\n",
       "      <td>2013</td>\n",
       "      <td>29369</td>\n",
       "      <td>4.20</td>\n",
       "      <td>3.939800</td>\n",
       "    </tr>\n",
       "    <tr>\n",
       "      <th>753</th>\n",
       "      <td>6366437</td>\n",
       "      <td>Half Broke Horses</td>\n",
       "      <td>2008</td>\n",
       "      <td>110597</td>\n",
       "      <td>4.05</td>\n",
       "      <td>3.933876</td>\n",
       "    </tr>\n",
       "    <tr>\n",
       "      <th>1067</th>\n",
       "      <td>29209</td>\n",
       "      <td>The Color of Water: A Black Man's Tribute to H...</td>\n",
       "      <td>1996</td>\n",
       "      <td>80906</td>\n",
       "      <td>4.06</td>\n",
       "      <td>3.931739</td>\n",
       "    </tr>\n",
       "    <tr>\n",
       "      <th>6286</th>\n",
       "      <td>8564644</td>\n",
       "      <td>Little Princes: One Man's Promise to Bring Hom...</td>\n",
       "      <td>2010</td>\n",
       "      <td>14765</td>\n",
       "      <td>4.25</td>\n",
       "      <td>3.921592</td>\n",
       "    </tr>\n",
       "    <tr>\n",
       "      <th>2701</th>\n",
       "      <td>6114607</td>\n",
       "      <td>The Midwife: A Memoir of Birth, Joy, and Hard ...</td>\n",
       "      <td>2002</td>\n",
       "      <td>19176</td>\n",
       "      <td>4.17</td>\n",
       "      <td>3.918560</td>\n",
       "    </tr>\n",
       "    <tr>\n",
       "      <th>4593</th>\n",
       "      <td>31845516</td>\n",
       "      <td>Love Warrior</td>\n",
       "      <td>2016</td>\n",
       "      <td>20094</td>\n",
       "      <td>4.10</td>\n",
       "      <td>3.908024</td>\n",
       "    </tr>\n",
       "  </tbody>\n",
       "</table>\n",
       "</div>"
      ],
      "text/plain": [
       "       book_id  ...     score\n",
       "80        7445  ...  4.139652\n",
       "328    2318271  ...  4.030650\n",
       "198      12691  ...  3.979631\n",
       "1669    104189  ...  3.966337\n",
       "2803  18039963  ...  3.939800\n",
       "753    6366437  ...  3.933876\n",
       "1067     29209  ...  3.931739\n",
       "6286   8564644  ...  3.921592\n",
       "2701   6114607  ...  3.918560\n",
       "4593  31845516  ...  3.908024\n",
       "\n",
       "[10 rows x 6 columns]"
      ]
     },
     "execution_count": 63,
     "metadata": {
      "tags": []
     },
     "output_type": "execute_result"
    }
   ],
   "source": [
    "improved_hybrid(10, 'Eat, Pray, Love')"
   ]
  },
  {
   "cell_type": "markdown",
   "metadata": {
    "colab_type": "text",
    "id": "8fUbeooW7Yls"
   },
   "source": [
    "Ok, we see that the new results make more sense, besides to, the recommendations are more personalized and tailored towards particular users."
   ]
  },
  {
   "cell_type": "markdown",
   "metadata": {
    "colab_type": "text",
    "id": "G0Xa7WvCAOLM"
   },
   "source": [
    "# Conclusion <a id=\"13\"></a> <br>\n",
    "\n",
    "In this notebook, I have built 4 different recommendation engines based on different ideas and algorithms. They are as follows:\n",
    "\n",
    "1. **Simple Recommender:** This system used overall Goodreads Ratings Count and Rating Averages to build Top Books Charts, in general and for a specific genre. The IMDB Weighted Rating System was used to calculate ratings on which the sorting was finally performed.\n",
    "2. **Content Based Recommender:** We built content based engines that took book title, authors and genres as input to come up with predictions. We also deviced a simple filter to give greater preference to books with more votes and higher ratings.\n",
    "3. **Collaborative Filtering:** We built two Collaborative Filters; \n",
    "  - one that uses the powerful Surprise Library to build an **user-based** filter based on single value decomposition, since the RMSE obtained was less than 1, and the engine gave estimated ratings for a given user and book.\n",
    "  - And the other (**item-based**) which built a pivot table for users ratings corresponding to each book, and the engine gave similar books for a given book.\n",
    "4. **Hybrid Engine:** We brought together ideas from content and collaborative filterting to build an engine that gave book suggestions to a particular user based on the estimated ratings that it had internally calculated for that user.\n",
    "\n",
    "Previous -> [The Story of Book](https://www.kaggle.com/rounakbanik/the-story-of-film/)"
   ]
  },
  {
   "cell_type": "markdown",
   "metadata": {
    "colab_type": "text",
    "id": "0okEgJR1X1oH"
   },
   "source": [
    "# Save Model <a id=\"14\"></a> <br>"
   ]
  },
  {
   "cell_type": "code",
   "execution_count": 19,
   "metadata": {
    "colab": {
     "base_uri": "https://localhost:8080/",
     "height": 74
    },
    "colab_type": "code",
    "id": "hOo8xOhtqKkw",
    "outputId": "bd4242cb-8174-4c3f-8fdc-4966e7d40fc3"
   },
   "outputs": [
    {
     "name": "stderr",
     "output_type": "stream",
     "text": [
      "C:\\ProgramData\\Anaconda3\\lib\\site-packages\\sklearn\\externals\\joblib\\__init__.py:15: DeprecationWarning: sklearn.externals.joblib is deprecated in 0.21 and will be removed in 0.23. Please import this functionality directly from joblib, which can be installed with: pip install joblib. If this warning is raised when loading pickled models, you may need to re-serialize those models with scikit-learn 0.21+.\n",
      "  warnings.warn(msg, category=DeprecationWarning)\n"
     ]
    }
   ],
   "source": [
    "from sklearn.externals import joblib"
   ]
  },
  {
   "cell_type": "code",
   "execution_count": 22,
   "metadata": {
    "colab": {
     "base_uri": "https://localhost:8080/",
     "height": 35
    },
    "colab_type": "code",
    "id": "H4FiIlUipwMW",
    "outputId": "94f88269-523a-4ca7-a8df-bb05b0875441"
   },
   "outputs": [
    {
     "data": {
      "text/plain": [
       "['models/cosine_sim.pkl']"
      ]
     },
     "execution_count": 22,
     "metadata": {},
     "output_type": "execute_result"
    }
   ],
   "source": [
    "sim_model_name = 'models/cosine_sim.pkl'\n",
    "path = F\"{sim_model_name}\"\n",
    "joblib.dump(cosine_sim, path)"
   ]
  },
  {
   "cell_type": "code",
   "execution_count": 23,
   "metadata": {
    "colab": {
     "base_uri": "https://localhost:8080/",
     "height": 35
    },
    "colab_type": "code",
    "id": "8BgO5qfaq7xN",
    "outputId": "20e1b57e-6e88-4522-fb9a-1b5e3a968541"
   },
   "outputs": [
    {
     "data": {
      "text/plain": [
       "['models/svd.pkl']"
      ]
     },
     "execution_count": 23,
     "metadata": {},
     "output_type": "execute_result"
    }
   ],
   "source": [
    "svd_model_name = 'models/svd.pkl'\n",
    "path = F\"{svd_model_name}\"\n",
    "joblib.dump(svd, path)"
   ]
  },
  {
   "cell_type": "markdown",
   "metadata": {
    "colab_type": "text",
    "id": "YQlrU9XLuemW"
   },
   "source": [
    "**for Google Drive**"
   ]
  },
  {
   "cell_type": "code",
   "execution_count": 0,
   "metadata": {
    "colab": {},
    "colab_type": "code",
    "id": "b4yc1AdNl8m5"
   },
   "outputs": [],
   "source": [
    "from google.colab import drive\n",
    "drive.mount('/content/drive')"
   ]
  },
  {
   "cell_type": "code",
   "execution_count": 0,
   "metadata": {
    "colab": {},
    "colab_type": "code",
    "id": "h0KU2ODAl62x"
   },
   "outputs": [],
   "source": [
    "from sklearn.externals import joblib\n",
    "sim_model_name = 'cosine_sim.pkl'\n",
    "path = F\"/content/gdrive/My Drive/{sim_model_name}\"\n",
    "joblib.dump(cosine_sim, path)"
   ]
  },
  {
   "cell_type": "code",
   "execution_count": 0,
   "metadata": {
    "colab": {},
    "colab_type": "code",
    "id": "XEFoIvSaX1bo"
   },
   "outputs": [],
   "source": [
    "sim_model_name = 'cosine_sim.pkl'\n",
    "path = F\"/content/gdrive/My Drive/{sim_model_name}\"\n",
    "cosine_sim = joblib.load(path)"
   ]
  },
  {
   "cell_type": "code",
   "execution_count": 0,
   "metadata": {
    "colab": {},
    "colab_type": "code",
    "id": "kn-IG4K0tQMj"
   },
   "outputs": [],
   "source": []
  }
 ],
 "metadata": {
  "colab": {
   "collapsed_sections": [
    "F3jXFt7gqq4Z",
    "GMc6tLV16lOr"
   ],
   "name": "Goodreads: 2-Book Recommender System.ipynb",
   "provenance": [],
   "toc_visible": true
  },
  "kernelspec": {
   "display_name": "Python 3",
   "language": "python",
   "name": "python3"
  },
  "language_info": {
   "codemirror_mode": {
    "name": "ipython",
    "version": 3
   },
   "file_extension": ".py",
   "mimetype": "text/x-python",
   "name": "python",
   "nbconvert_exporter": "python",
   "pygments_lexer": "ipython3",
   "version": "3.7.4"
  }
 },
 "nbformat": 4,
 "nbformat_minor": 1
}
